{
 "cells": [
  {
   "cell_type": "markdown",
   "metadata": {},
   "source": [
    "# To Show List Of Keywords"
   ]
  },
  {
   "cell_type": "code",
   "execution_count": 14,
   "metadata": {},
   "outputs": [
    {
     "name": "stdout",
     "output_type": "stream",
     "text": [
      "['False', 'None', 'True', 'and', 'as', 'assert', 'async', 'await', 'break', 'class', 'continue', 'def', 'del', 'elif', 'else', 'except', 'finally', 'for', 'from', 'global', 'if', 'import', 'in', 'is', 'lambda', 'nonlocal', 'not', 'or', 'pass', 'raise', 'return', 'try', 'while', 'with', 'yield']\n"
     ]
    }
   ],
   "source": [
    "import keyword\n",
    "print(keyword.kwlist)"
   ]
  },
  {
   "cell_type": "markdown",
   "metadata": {},
   "source": [
    "# Comment\n",
    "\" # \" = Single Line Comment\n",
    "\n",
    "\"\"\" \"\"\" = Multi Line Comments"
   ]
  },
  {
   "cell_type": "markdown",
   "metadata": {},
   "source": [
    "# Data Types\n",
    "\n",
    "-> Numeric Types = int, float, complex\n",
    "\n",
    "-> Sequence Types = list, tuple, range\n",
    "\n",
    "-> Mapping Type = dict\n",
    "\n",
    "-> Set Types = set, frozenset\n",
    "\n",
    "-> Boolean Type = bool\n",
    "\n",
    "-> Binary Types = bytes, bytearray, memoryview\n",
    "\n",
    "-> None Type = NoneType \n",
    "\n",
    "# Complex Data Type\n",
    "iota in Python is Denoted by \"j\""
   ]
  },
  {
   "cell_type": "code",
   "execution_count": 15,
   "metadata": {},
   "outputs": [
    {
     "name": "stdout",
     "output_type": "stream",
     "text": [
      "(1+2j) <class 'complex'>\n"
     ]
    }
   ],
   "source": [
    "a=1+2j\n",
    "print(a, type(a))"
   ]
  },
  {
   "cell_type": "markdown",
   "metadata": {},
   "source": [
    "# Operators\n",
    "\n",
    "-> Arithmetic: =,-,*,/,%,//,**\n",
    "\n",
    "-> Relational: ==, <=,>=,!=\n",
    "\n",
    "-> Logical: and, or, not\n",
    "\n",
    "-> Bitwise: &, |, ~, ^,<<,>>\n",
    "\n",
    "-> Assignment: =, +=, -=, _\n",
    "\n",
    "-> Special: is, is not, not in( shouldnot present), in(search)"
   ]
  },
  {
   "cell_type": "markdown",
   "metadata": {},
   "source": [
    "# IF ELSE\n",
    "\n",
    "-> if_else\n",
    "\n",
    "-> if_ elif__else\n",
    "\n",
    "-> Nested if"
   ]
  },
  {
   "cell_type": "code",
   "execution_count": 16,
   "metadata": {},
   "outputs": [
    {
     "name": "stdout",
     "output_type": "stream",
     "text": [
      "a is smaller than b\n",
      "hello\n"
     ]
    }
   ],
   "source": [
    "a = 10;\n",
    "b = 20;\n",
    "if a<b:\n",
    "    print('a is smaller than b')\n",
    "    print('hello')\n",
    "else:\n",
    "    print(\"a is greater than b\")"
   ]
  },
  {
   "cell_type": "markdown",
   "metadata": {},
   "source": [
    "# Practice Questions"
   ]
  },
  {
   "cell_type": "markdown",
   "metadata": {
    "tags": [
     "parameters"
    ]
   },
   "source": [
    "Tell if the given number is prime number or not using while loop without flag"
   ]
  },
  {
   "cell_type": "code",
   "execution_count": 17,
   "metadata": {},
   "outputs": [
    {
     "ename": "ValueError",
     "evalue": "invalid literal for int() with base 10: ''",
     "output_type": "error",
     "traceback": [
      "\u001b[1;31m---------------------------------------------------------------------------\u001b[0m",
      "\u001b[1;31mValueError\u001b[0m                                Traceback (most recent call last)",
      "Cell \u001b[1;32mIn[17], line 1\u001b[0m\n\u001b[1;32m----> 1\u001b[0m n \u001b[38;5;241m=\u001b[39m \u001b[38;5;28;43mint\u001b[39;49m\u001b[43m(\u001b[49m\u001b[38;5;28;43minput\u001b[39;49m\u001b[43m(\u001b[49m\u001b[38;5;124;43m\"\u001b[39;49m\u001b[38;5;124;43mEnter a Number: \u001b[39;49m\u001b[38;5;124;43m\"\u001b[39;49m\u001b[43m)\u001b[49m\u001b[43m)\u001b[49m;\n\u001b[0;32m      2\u001b[0m i\u001b[38;5;241m=\u001b[39m\u001b[38;5;241m2\u001b[39m;\n\u001b[0;32m      3\u001b[0m \u001b[38;5;28;01mwhile\u001b[39;00m(i\u001b[38;5;241m<\u001b[39mn):\n",
      "\u001b[1;31mValueError\u001b[0m: invalid literal for int() with base 10: ''"
     ]
    }
   ],
   "source": [
    "n = int(input(\"Enter a Number: \"));\n",
    "i=2;\n",
    "while(i<n):\n",
    "    if(n%i==0):\n",
    "        print(\"Not A Prime Number\")\n",
    "        break\n",
    "    i=i+1\n",
    "else:\n",
    "    print(\"Number is Prime\")   "
   ]
  },
  {
   "cell_type": "markdown",
   "metadata": {},
   "source": [
    "# For Loop\n"
   ]
  },
  {
   "cell_type": "code",
   "execution_count": null,
   "metadata": {},
   "outputs": [
    {
     "name": "stdout",
     "output_type": "stream",
     "text": [
      "1\n",
      "2\n",
      "3\n",
      "4\n",
      "5\n"
     ]
    }
   ],
   "source": [
    "l = [1,2,3,4,5]\n",
    "for ele in l:\n",
    "    print(ele)"
   ]
  },
  {
   "cell_type": "markdown",
   "metadata": {},
   "source": [
    "# Range\n",
    "range is a function having syntax and values:\n",
    "\n",
    "-> range(start, stop, step size)\n",
    "\n",
    "- start = returns a list containing some elements(actually it is an iterator(a function or concept that helpsin running a for loop))(Default Value = 0)\n",
    "\n",
    "- stop = It is not included and is compulsary to be specified. By default, length of object\n",
    "\n",
    "- step size = default size -> 1 "
   ]
  },
  {
   "cell_type": "code",
   "execution_count": null,
   "metadata": {},
   "outputs": [
    {
     "name": "stdout",
     "output_type": "stream",
     "text": [
      "1\n",
      "2\n",
      "3\n",
      "4\n",
      "5\n"
     ]
    }
   ],
   "source": [
    "for i in range(len(l)):\n",
    "    print(l[i])"
   ]
  },
  {
   "cell_type": "code",
   "execution_count": null,
   "metadata": {},
   "outputs": [
    {
     "name": "stdout",
     "output_type": "stream",
     "text": [
      "1\n",
      "6\n",
      "11\n",
      "16\n"
     ]
    }
   ],
   "source": [
    "for i in range(1, 20, 5):\n",
    "    print(i)"
   ]
  },
  {
   "cell_type": "code",
   "execution_count": null,
   "metadata": {},
   "outputs": [
    {
     "name": "stdout",
     "output_type": "stream",
     "text": [
      "10\n",
      "9\n",
      "8\n",
      "7\n",
      "6\n",
      "5\n",
      "4\n",
      "3\n",
      "2\n",
      "1\n"
     ]
    }
   ],
   "source": [
    "#To print elements in reverse order\n",
    "for i in range(10, 0, -1):\n",
    "    print(i)"
   ]
  },
  {
   "cell_type": "code",
   "execution_count": null,
   "metadata": {},
   "outputs": [
    {
     "name": "stdout",
     "output_type": "stream",
     "text": [
      "5\n",
      "4\n",
      "3\n",
      "2\n",
      "1\n"
     ]
    }
   ],
   "source": [
    "# To print elements of a list in reverse order\n",
    "for i in range(len(l)-1, -1, -1):\n",
    "    print(l[i])"
   ]
  },
  {
   "cell_type": "markdown",
   "metadata": {},
   "source": [
    "# Ternary Operator\n",
    "\n",
    "value 1(if condition is true) if else value 2(when false)\n",
    "- eg: a if a>b else b"
   ]
  },
  {
   "cell_type": "code",
   "execution_count": null,
   "metadata": {},
   "outputs": [
    {
     "data": {
      "text/plain": [
       "10"
      ]
     },
     "execution_count": 28,
     "metadata": {},
     "output_type": "execute_result"
    }
   ],
   "source": [
    "a = 10\n",
    "b = 20\n",
    "a if ( a < b) else b"
   ]
  },
  {
   "cell_type": "code",
   "execution_count": null,
   "metadata": {},
   "outputs": [
    {
     "data": {
      "text/plain": [
       "10"
      ]
     },
     "execution_count": 29,
     "metadata": {},
     "output_type": "execute_result"
    }
   ],
   "source": [
    "a = 10\n",
    "a"
   ]
  },
  {
   "cell_type": "markdown",
   "metadata": {},
   "source": [
    "# Functions Of List\n",
    "\n",
    "-> Note: Only Positive index values are valid  in C and cpp but both positive and negative values are valid in Python\n",
    "\n",
    "-> shortcut: press \"Tab key\" to look for functions after name of list and \"question mark\" to determine type of object after list name\n",
    "\n",
    "- append() adds an ele at the end of the list\n",
    "\n",
    "- clear() empties a list\n",
    "\n",
    "- copy() creates a copy, are of 2 types: shallow copy and deep copy\n",
    "suppose in a 2d array in a shallow copy only index no is copied in deep copy objects are also copied. Here, only shallow copy works\n",
    "\n",
    "- count() returns no of eles with specified value\n",
    "\n",
    "- extend() add eles of list(or any iterable)\n",
    "\n",
    "- index() returns the index of 1st ele with the specified value\n",
    "\n",
    "- insert() adds an ele at specified pos\n",
    "\n",
    "- pop() removes ele at specified pos\n",
    "\n",
    "- remove() removes itm with specified value\n",
    "\n",
    "- sort() sorts the list"
   ]
  },
  {
   "cell_type": "code",
   "execution_count": null,
   "metadata": {},
   "outputs": [
    {
     "name": "stdout",
     "output_type": "stream",
     "text": [
      "5\n",
      "4\n",
      "3\n",
      "2\n",
      "1\n"
     ]
    }
   ],
   "source": [
    "l = [1,2,3,4,5]\n",
    "for i in range(-1, -len(l) -1, -1):\n",
    "    print(l[i])"
   ]
  },
  {
   "cell_type": "code",
   "execution_count": null,
   "metadata": {},
   "outputs": [
    {
     "name": "stdout",
     "output_type": "stream",
     "text": [
      "[1, 100, 2, 3, 4, 5, 10]\n"
     ]
    }
   ],
   "source": [
    "l.append(10)\n",
    "l.insert(1, 100)\n",
    "print(l)"
   ]
  },
  {
   "cell_type": "code",
   "execution_count": null,
   "metadata": {},
   "outputs": [
    {
     "name": "stdout",
     "output_type": "stream",
     "text": [
      "1\n",
      "[1, 1000, 2, 3, 4, 5, 10]\n"
     ]
    }
   ],
   "source": [
    "print(l[0])\n",
    "l[1]=1000\n",
    "print(l)"
   ]
  },
  {
   "cell_type": "code",
   "execution_count": null,
   "metadata": {},
   "outputs": [
    {
     "name": "stdout",
     "output_type": "stream",
     "text": [
      "10\n",
      "1000\n",
      "[1, 2, 3, 4, 5]\n"
     ]
    }
   ],
   "source": [
    "print(l.pop())\n",
    "print(l.pop(1))\n",
    "print(l)"
   ]
  },
  {
   "cell_type": "code",
   "execution_count": null,
   "metadata": {},
   "outputs": [
    {
     "name": "stdout",
     "output_type": "stream",
     "text": [
      "[1, 2, 3, 4, 1, 1, 2]\n"
     ]
    }
   ],
   "source": [
    "l1 = [1,2,3,4]\n",
    "l2 = [1,1,2]\n",
    "\"\"\" l1 = l1+2 #error shown as only lists can be concatenated.. shows error incase of lists but works in numpy\"\"\"\n",
    "l1=l1+l2\n",
    "print(l1)"
   ]
  },
  {
   "cell_type": "code",
   "execution_count": null,
   "metadata": {},
   "outputs": [
    {
     "name": "stdout",
     "output_type": "stream",
     "text": [
      "[0, 2, 4, 6, 8, 10, 12, 14, 16, 18]\n"
     ]
    }
   ],
   "source": [
    "# all even nos within a list till 20\n",
    "\n",
    "l=[]\n",
    "for i in range(0, 20, 1):\n",
    "    if(i%2==0):\n",
    "        l.append(i)\n",
    "print(l)"
   ]
  },
  {
   "cell_type": "markdown",
   "metadata": {},
   "source": [
    "* Easy Way"
   ]
  },
  {
   "cell_type": "code",
   "execution_count": null,
   "metadata": {},
   "outputs": [
    {
     "name": "stdout",
     "output_type": "stream",
     "text": [
      "[0, 2, 4, 6, 8, 10, 12, 14, 16, 18]\n"
     ]
    }
   ],
   "source": [
    "l = []\n",
    "for i in range(0, 20 ,2):\n",
    "\n",
    "    l.append(i)\n",
    "print(l)"
   ]
  },
  {
   "cell_type": "code",
   "execution_count": null,
   "metadata": {},
   "outputs": [
    {
     "name": "stdout",
     "output_type": "stream",
     "text": [
      "[4, 6, 8]\n"
     ]
    }
   ],
   "source": [
    "print( l[2:5])"
   ]
  },
  {
   "cell_type": "code",
   "execution_count": null,
   "metadata": {},
   "outputs": [
    {
     "name": "stdout",
     "output_type": "stream",
     "text": [
      "[]\n"
     ]
    }
   ],
   "source": [
    "print(l[20:10:2])"
   ]
  },
  {
   "cell_type": "code",
   "execution_count": null,
   "metadata": {},
   "outputs": [
    {
     "name": "stdout",
     "output_type": "stream",
     "text": [
      "[18, 16, 14, 12, 10, 8, 6, 4, 2, 0]\n"
     ]
    }
   ],
   "source": [
    "print(l[::-1])"
   ]
  },
  {
   "cell_type": "markdown",
   "metadata": {},
   "source": [
    "# Tuples\n",
    "\n",
    "specified in circular brackets\"()\"\n",
    "it is immutable whereas list is mutable"
   ]
  },
  {
   "cell_type": "code",
   "execution_count": null,
   "metadata": {},
   "outputs": [
    {
     "name": "stdout",
     "output_type": "stream",
     "text": [
      "(1, 2, 3)\n"
     ]
    }
   ],
   "source": [
    "t1 = (1, 2, 3)\n",
    "print(t1)"
   ]
  },
  {
   "cell_type": "code",
   "execution_count": null,
   "metadata": {},
   "outputs": [
    {
     "name": "stdout",
     "output_type": "stream",
     "text": [
      "(1, 2, 3, 10)\n"
     ]
    }
   ],
   "source": [
    "# to change values of a tuple\n",
    "l1 = list(t1)\n",
    "l1.append(10)\n",
    "t1 = tuple(l1)\n",
    "print(t1)"
   ]
  },
  {
   "cell_type": "code",
   "execution_count": null,
   "metadata": {},
   "outputs": [
    {
     "name": "stdout",
     "output_type": "stream",
     "text": [
      "(10, 20, 30) 10 20 30\n"
     ]
    }
   ],
   "source": [
    "t1= (10, 20, 30)\n",
    "a,b,c = t1\n",
    "print(t1,a,b,c)"
   ]
  },
  {
   "cell_type": "code",
   "execution_count": null,
   "metadata": {},
   "outputs": [
    {
     "name": "stdout",
     "output_type": "stream",
     "text": [
      "1 2 3\n"
     ]
    }
   ],
   "source": [
    "a, b, c = 1, 2, 3\n",
    "print(a, b, c)"
   ]
  },
  {
   "cell_type": "code",
   "execution_count": null,
   "metadata": {},
   "outputs": [
    {
     "name": "stdout",
     "output_type": "stream",
     "text": [
      "2\n"
     ]
    }
   ],
   "source": [
    "# displays 2 as it is the only present ele so it is considered as a mathematical ele by the compiler\n",
    "t2 = (2)\n",
    "print(t2)"
   ]
  },
  {
   "cell_type": "code",
   "execution_count": null,
   "metadata": {},
   "outputs": [
    {
     "name": "stdout",
     "output_type": "stream",
     "text": [
      "(2,)\n"
     ]
    }
   ],
   "source": [
    "# after putting a comma\n",
    "t2 = (2,)\n",
    "print(t2)"
   ]
  },
  {
   "cell_type": "code",
   "execution_count": null,
   "metadata": {},
   "outputs": [
    {
     "name": "stdout",
     "output_type": "stream",
     "text": [
      "[1, 1, 1, 1, 1, 1, 1, 1, 1, 1, 1, 1, 1, 1, 1, 1, 1, 1, 1, 1]\n"
     ]
    }
   ],
   "source": [
    "#to make a list containing 20 times \"1\"\n",
    "l = [1]*20\n",
    "print(l)"
   ]
  },
  {
   "cell_type": "markdown",
   "metadata": {},
   "source": [
    "# Sets \n",
    "\n",
    "- disjoint a pair of sets which have nthng in common\n",
    "\n",
    "-> Sets are generally used when we don't need any duplicate eles and also for searching purposes"
   ]
  },
  {
   "cell_type": "code",
   "execution_count": null,
   "metadata": {},
   "outputs": [
    {
     "name": "stdout",
     "output_type": "stream",
     "text": [
      "{1, 2, 3} <class 'set'>\n"
     ]
    }
   ],
   "source": [
    "s = {1,2,3}\n",
    "print(s, type(s))"
   ]
  },
  {
   "cell_type": "code",
   "execution_count": null,
   "metadata": {},
   "outputs": [
    {
     "name": "stdout",
     "output_type": "stream",
     "text": [
      "{10, 1, 2, 3}\n"
     ]
    }
   ],
   "source": [
    "s.add(10)\n",
    "print(s)"
   ]
  },
  {
   "cell_type": "code",
   "execution_count": null,
   "metadata": {},
   "outputs": [
    {
     "name": "stdout",
     "output_type": "stream",
     "text": [
      "{10, 1, 2, 3}\n"
     ]
    }
   ],
   "source": [
    "s.add(1)\n",
    "print(s)"
   ]
  },
  {
   "cell_type": "code",
   "execution_count": null,
   "metadata": {},
   "outputs": [
    {
     "data": {
      "text/plain": [
       "10"
      ]
     },
     "execution_count": 50,
     "metadata": {},
     "output_type": "execute_result"
    }
   ],
   "source": [
    "#pops last added element\n",
    "s.pop()"
   ]
  },
  {
   "cell_type": "code",
   "execution_count": null,
   "metadata": {},
   "outputs": [],
   "source": [
    "#doesn't gives any output but removes ele specified\n",
    "s.remove(3)"
   ]
  },
  {
   "cell_type": "code",
   "execution_count": null,
   "metadata": {},
   "outputs": [
    {
     "name": "stdout",
     "output_type": "stream",
     "text": [
      "set()\n"
     ]
    }
   ],
   "source": [
    "s = set()\n",
    "print(s)"
   ]
  },
  {
   "cell_type": "code",
   "execution_count": null,
   "metadata": {},
   "outputs": [
    {
     "name": "stdout",
     "output_type": "stream",
     "text": [
      "frozenset({1, 2, 3})\n"
     ]
    }
   ],
   "source": [
    "#Frozen Set\n",
    "s = frozenset({1,2,3})\n",
    "print(s)"
   ]
  },
  {
   "cell_type": "code",
   "execution_count": null,
   "metadata": {},
   "outputs": [
    {
     "name": "stdout",
     "output_type": "stream",
     "text": [
      "1\n",
      "2\n",
      "3\n"
     ]
    }
   ],
   "source": [
    "#To traverse eles in a set\n",
    "for ele in s:\n",
    "    print(ele)"
   ]
  },
  {
   "cell_type": "markdown",
   "metadata": {},
   "source": [
    "# Dictionary\n",
    "\n",
    "- consists of key value pairs\n",
    "* every immutable data type can be added to a key\n"
   ]
  },
  {
   "cell_type": "code",
   "execution_count": null,
   "metadata": {},
   "outputs": [
    {
     "name": "stdout",
     "output_type": "stream",
     "text": [
      "{'roll': 128, 'name': 'sacher', 'age': 'jawan', 'status': 'commited'} <class 'dict'>\n"
     ]
    }
   ],
   "source": [
    "#roll no will be unique\n",
    "d={\n",
    "    \"roll\" :127, \n",
    "    \"name\" : \"sacher\",\n",
    "    \"age\" : \"jawan\",\n",
    "    \"status\" : \"commited\",\n",
    "    \"roll\" : 128 \n",
    "}\n",
    "print(d, type(d))"
   ]
  },
  {
   "cell_type": "code",
   "execution_count": null,
   "metadata": {},
   "outputs": [
    {
     "name": "stdout",
     "output_type": "stream",
     "text": [
      "128\n"
     ]
    }
   ],
   "source": [
    "print(d[\"roll\"])"
   ]
  },
  {
   "cell_type": "code",
   "execution_count": null,
   "metadata": {},
   "outputs": [
    {
     "ename": "KeyError",
     "evalue": "'rolll'",
     "output_type": "error",
     "traceback": [
      "\u001b[1;31m---------------------------------------------------------------------------\u001b[0m",
      "\u001b[1;31mKeyError\u001b[0m                                  Traceback (most recent call last)",
      "Cell \u001b[1;32mIn[57], line 1\u001b[0m\n\u001b[1;32m----> 1\u001b[0m \u001b[38;5;28mprint\u001b[39m(\u001b[43md\u001b[49m\u001b[43m[\u001b[49m\u001b[38;5;124;43m\"\u001b[39;49m\u001b[38;5;124;43mrolll\u001b[39;49m\u001b[38;5;124;43m\"\u001b[39;49m\u001b[43m]\u001b[49m)\n",
      "\u001b[1;31mKeyError\u001b[0m: 'rolll'"
     ]
    }
   ],
   "source": [
    "print(d[\"rolll\"])"
   ]
  },
  {
   "cell_type": "code",
   "execution_count": null,
   "metadata": {},
   "outputs": [
    {
     "data": {
      "text/plain": [
       "128"
      ]
     },
     "execution_count": 15,
     "metadata": {},
     "output_type": "execute_result"
    }
   ],
   "source": [
    "d.get(\"roll\")"
   ]
  },
  {
   "cell_type": "code",
   "execution_count": null,
   "metadata": {},
   "outputs": [],
   "source": [
    "d.get(\"rolll\")"
   ]
  },
  {
   "cell_type": "code",
   "execution_count": null,
   "metadata": {},
   "outputs": [
    {
     "name": "stdout",
     "output_type": "stream",
     "text": [
      "{'roll': 128, 'name': 'sacher', 'age': 'jawan', 'status': 'commited', 'college': 'chitkara'}\n"
     ]
    }
   ],
   "source": [
    "d[\"college\"] = \"chitkara\"\n",
    "print(d)"
   ]
  },
  {
   "cell_type": "code",
   "execution_count": null,
   "metadata": {},
   "outputs": [
    {
     "name": "stdout",
     "output_type": "stream",
     "text": [
      "{'roll': 128, 'name': 'sacher', 'age': 'jawan', 'status': 'commited', 'college': 'chitkara', 'city': 'chandigarh', 'country': 'India'}\n"
     ]
    }
   ],
   "source": [
    "d.update({\"city\" : \"chandigarh\",  \"country\" : \"India\"})\n",
    "print(d)"
   ]
  },
  {
   "cell_type": "code",
   "execution_count": null,
   "metadata": {},
   "outputs": [
    {
     "data": {
      "text/plain": [
       "dict_keys(['roll', 'name', 'age', 'status', 'college', 'city', 'country'])"
      ]
     },
     "execution_count": 61,
     "metadata": {},
     "output_type": "execute_result"
    }
   ],
   "source": [
    "d.keys()"
   ]
  },
  {
   "cell_type": "code",
   "execution_count": null,
   "metadata": {},
   "outputs": [
    {
     "name": "stdout",
     "output_type": "stream",
     "text": [
      "roll 128\n",
      "name sacher\n",
      "age jawan\n",
      "status commited\n",
      "college chitkara\n",
      "city chandigarh\n",
      "country India\n"
     ]
    }
   ],
   "source": [
    "for k in d.keys():\n",
    "    print(k, d[k])"
   ]
  },
  {
   "cell_type": "code",
   "execution_count": null,
   "metadata": {},
   "outputs": [
    {
     "data": {
      "text/plain": [
       "dict_values([128, 'sacher', 'jawan', 'commited', 'chitkara', 'chandigarh', 'India'])"
      ]
     },
     "execution_count": 63,
     "metadata": {},
     "output_type": "execute_result"
    }
   ],
   "source": [
    "d.values()"
   ]
  },
  {
   "cell_type": "code",
   "execution_count": null,
   "metadata": {},
   "outputs": [
    {
     "name": "stdout",
     "output_type": "stream",
     "text": [
      "roll 128\n",
      "name sacher\n",
      "age jawan\n",
      "status commited\n",
      "college chitkara\n",
      "city chandigarh\n",
      "country India\n"
     ]
    }
   ],
   "source": [
    "for k, v in d.items():\n",
    "    print(k,v)"
   ]
  },
  {
   "cell_type": "code",
   "execution_count": null,
   "metadata": {},
   "outputs": [
    {
     "name": "stdout",
     "output_type": "stream",
     "text": [
      "('roll', 128)\n",
      "('name', 'sacher')\n",
      "('age', 'jawan')\n",
      "('status', 'commited')\n",
      "('college', 'chitkara')\n",
      "('city', 'chandigarh')\n",
      "('country', 'India')\n"
     ]
    }
   ],
   "source": [
    "for t in d.items():\n",
    "    print(t)"
   ]
  },
  {
   "cell_type": "code",
   "execution_count": null,
   "metadata": {},
   "outputs": [
    {
     "ename": "KeyError",
     "evalue": "'country'",
     "output_type": "error",
     "traceback": [
      "\u001b[1;31m---------------------------------------------------------------------------\u001b[0m",
      "\u001b[1;31mKeyError\u001b[0m                                  Traceback (most recent call last)",
      "Cell \u001b[1;32mIn[71], line 2\u001b[0m\n\u001b[0;32m      1\u001b[0m \u001b[38;5;66;03m#pops specified key\u001b[39;00m\n\u001b[1;32m----> 2\u001b[0m \u001b[43md\u001b[49m\u001b[38;5;241;43m.\u001b[39;49m\u001b[43mpop\u001b[49m\u001b[43m(\u001b[49m\u001b[38;5;124;43m'\u001b[39;49m\u001b[38;5;124;43mcountry\u001b[39;49m\u001b[38;5;124;43m'\u001b[39;49m\u001b[43m)\u001b[49m\n",
      "\u001b[1;31mKeyError\u001b[0m: 'country'"
     ]
    }
   ],
   "source": [
    "#pops specified key\n",
    "d.pop('country')"
   ]
  },
  {
   "cell_type": "code",
   "execution_count": null,
   "metadata": {},
   "outputs": [
    {
     "data": {
      "text/plain": [
       "{'roll': 128,\n",
       " 'name': 'sacher',\n",
       " 'age': 'jawan',\n",
       " 'status': 'commited',\n",
       " 'college': 'chitkara',\n",
       " 'city': 'chandigarh'}"
      ]
     },
     "execution_count": 69,
     "metadata": {},
     "output_type": "execute_result"
    }
   ],
   "source": [
    "d"
   ]
  },
  {
   "cell_type": "code",
   "execution_count": null,
   "metadata": {},
   "outputs": [
    {
     "data": {
      "text/plain": [
       "('college', 'chitkara')"
      ]
     },
     "execution_count": 72,
     "metadata": {},
     "output_type": "execute_result"
    }
   ],
   "source": [
    "#pops  last inserted value\n",
    "d.popitem()"
   ]
  },
  {
   "cell_type": "markdown",
   "metadata": {},
   "source": [
    "# Functions\n",
    "\n",
    "- readability\n",
    "\n",
    "- reusability\n",
    "\n",
    "- Modular Programming\n",
    "\n",
    "- 'def' keyword is used to define fn\n",
    "\n",
    "- def fnname(args):\n",
    "   - body\n",
    "\n",
    "- eg: def add()\n",
    "    - x=10\n",
    "    - y=20\n",
    "    - print(x+y)"
   ]
  },
  {
   "cell_type": "code",
   "execution_count": null,
   "metadata": {},
   "outputs": [],
   "source": [
    "def add():\n",
    "    x = 10\n",
    "    y = 20\n",
    "    print(x+y)"
   ]
  },
  {
   "cell_type": "code",
   "execution_count": null,
   "metadata": {},
   "outputs": [
    {
     "name": "stdout",
     "output_type": "stream",
     "text": [
      "30\n",
      "30\n"
     ]
    }
   ],
   "source": [
    "add()\n",
    "add()"
   ]
  },
  {
   "cell_type": "code",
   "execution_count": null,
   "metadata": {},
   "outputs": [
    {
     "name": "stdout",
     "output_type": "stream",
     "text": [
      "<function add at 0x000001DE2F99C900> <class 'function'>\n"
     ]
    }
   ],
   "source": [
    "print(add, type(add))"
   ]
  },
  {
   "cell_type": "code",
   "execution_count": null,
   "metadata": {},
   "outputs": [],
   "source": [
    "def add(x,y):\n",
    "    print(x+y)"
   ]
  },
  {
   "cell_type": "code",
   "execution_count": null,
   "metadata": {},
   "outputs": [
    {
     "name": "stdout",
     "output_type": "stream",
     "text": [
      "30\n",
      "300\n"
     ]
    }
   ],
   "source": [
    "add(10,20)\n",
    "add(100,200)"
   ]
  },
  {
   "cell_type": "code",
   "execution_count": null,
   "metadata": {},
   "outputs": [
    {
     "name": "stdout",
     "output_type": "stream",
     "text": [
      "<function add at 0x000001DE2F99CB80> <class 'function'>\n"
     ]
    }
   ],
   "source": [
    "print(add, type(add))"
   ]
  },
  {
   "cell_type": "code",
   "execution_count": null,
   "metadata": {},
   "outputs": [],
   "source": [
    "def cal(x,y):\n",
    "    a = x+y\n",
    "    b = x-y\n",
    "    return a,b\n",
    "#multiple values in python are returned by converting both values in a tuple. Both values are packed as a tuple and returned"
   ]
  },
  {
   "cell_type": "code",
   "execution_count": 13,
   "metadata": {},
   "outputs": [
    {
     "name": "stdout",
     "output_type": "stream",
     "text": [
      "30 -10\n",
      "(300, -100)\n"
     ]
    }
   ],
   "source": [
    "a, b = cal(10,20)\n",
    "print(a,b)\n",
    "print(cal(100,200))"
   ]
  },
  {
   "cell_type": "code",
   "execution_count": 19,
   "metadata": {},
   "outputs": [],
   "source": [
    "def cal(x,y=100):\n",
    "    a = x+y\n",
    "    b = x-y\n",
    "    return a,b"
   ]
  },
  {
   "cell_type": "code",
   "execution_count": 21,
   "metadata": {},
   "outputs": [],
   "source": [
    "def cal(x,y=100,/):\n",
    "    a = x+y\n",
    "    b = x-y\n",
    "    return a,b"
   ]
  },
  {
   "cell_type": "code",
   "execution_count": 22,
   "metadata": {},
   "outputs": [],
   "source": [
    "def cal(*,x,y=100):\n",
    "    a = x+y\n",
    "    b = x-y\n",
    "    return a,b"
   ]
  },
  {
   "cell_type": "code",
   "execution_count": 26,
   "metadata": {},
   "outputs": [],
   "source": [
    "def cal(p,q,/,*,x,y=100):\n",
    "    a = x+y\n",
    "    b = x-y\n",
    "    print(p,q)\n",
    "    return a,b"
   ]
  },
  {
   "cell_type": "code",
   "execution_count": 27,
   "metadata": {},
   "outputs": [
    {
     "name": "stdout",
     "output_type": "stream",
     "text": [
      "10 20\n",
      "1300 700\n",
      "100 200\n",
      "(200, 0)\n"
     ]
    }
   ],
   "source": [
    "a, b = cal(10,20, y=300,x=1000)\n",
    "print(a,b)\n",
    "print(cal(100,200, x=100))"
   ]
  },
  {
   "cell_type": "markdown",
   "metadata": {},
   "source": [
    "# Arbitrary Arguments\n",
    "\n",
    "- *args - positional identifier\n",
    "\n",
    "- *kwargs - keyword args/ keyword identifier"
   ]
  },
  {
   "cell_type": "code",
   "execution_count": 28,
   "metadata": {},
   "outputs": [],
   "source": [
    "def pt(*args):\n",
    "    print(args)"
   ]
  },
  {
   "cell_type": "code",
   "execution_count": 29,
   "metadata": {},
   "outputs": [
    {
     "name": "stdout",
     "output_type": "stream",
     "text": [
      "(1, 2, 3)\n",
      "('Hello', 10, 3.5)\n"
     ]
    }
   ],
   "source": [
    "pt(1,2,3)\n",
    "pt(\"Hello\", 10, 3.5)"
   ]
  },
  {
   "cell_type": "code",
   "execution_count": 31,
   "metadata": {},
   "outputs": [
    {
     "name": "stdout",
     "output_type": "stream",
     "text": [
      "()\n"
     ]
    }
   ],
   "source": [
    "#empty tuple is printed\n",
    "pt()"
   ]
  },
  {
   "cell_type": "code",
   "execution_count": null,
   "metadata": {},
   "outputs": [],
   "source": [
    "def pt(**kwargs):\n",
    "    print(kwargs)"
   ]
  },
  {
   "cell_type": "code",
   "execution_count": 62,
   "metadata": {},
   "outputs": [
    {
     "ename": "TypeError",
     "evalue": "pt() got an unexpected keyword argument 'x'",
     "output_type": "error",
     "traceback": [
      "\u001b[1;31m---------------------------------------------------------------------------\u001b[0m",
      "\u001b[1;31mTypeError\u001b[0m                                 Traceback (most recent call last)",
      "Cell \u001b[1;32mIn[62], line 1\u001b[0m\n\u001b[1;32m----> 1\u001b[0m \u001b[43mpt\u001b[49m\u001b[43m(\u001b[49m\u001b[43m \u001b[49m\u001b[43mx\u001b[49m\u001b[43m \u001b[49m\u001b[38;5;241;43m=\u001b[39;49m\u001b[43m \u001b[49m\u001b[38;5;241;43m1\u001b[39;49m\u001b[43m,\u001b[49m\u001b[43m \u001b[49m\u001b[43my\u001b[49m\u001b[43m \u001b[49m\u001b[38;5;241;43m=\u001b[39;49m\u001b[43m \u001b[49m\u001b[38;5;241;43m2\u001b[39;49m\u001b[43m,\u001b[49m\u001b[43m \u001b[49m\u001b[43mz\u001b[49m\u001b[43m \u001b[49m\u001b[38;5;241;43m=\u001b[39;49m\u001b[43m \u001b[49m\u001b[38;5;241;43m3\u001b[39;49m\u001b[43m)\u001b[49m\n\u001b[0;32m      2\u001b[0m pt(st \u001b[38;5;241m=\u001b[39m \u001b[38;5;124m\"\u001b[39m\u001b[38;5;124mHello\u001b[39m\u001b[38;5;124m\"\u001b[39m, y \u001b[38;5;241m=\u001b[39m \u001b[38;5;241m10\u001b[39m)\n",
      "\u001b[1;31mTypeError\u001b[0m: pt() got an unexpected keyword argument 'x'"
     ]
    }
   ],
   "source": [
    "pt( x = 1, y = 2, z = 3)\n",
    "pt(st = \"Hello\", y = 10)"
   ]
  },
  {
   "cell_type": "code",
   "execution_count": 33,
   "metadata": {},
   "outputs": [
    {
     "name": "stdout",
     "output_type": "stream",
     "text": [
      "()\n"
     ]
    }
   ],
   "source": [
    "pt()"
   ]
  },
  {
   "cell_type": "code",
   "execution_count": 35,
   "metadata": {},
   "outputs": [],
   "source": [
    "def fn():\n",
    "    \"This is a Demo fn\" #Docstring\n",
    "    print(\"Hi\")"
   ]
  },
  {
   "cell_type": "code",
   "execution_count": 36,
   "metadata": {},
   "outputs": [
    {
     "name": "stdout",
     "output_type": "stream",
     "text": [
      "Hi\n"
     ]
    }
   ],
   "source": [
    "fn()"
   ]
  },
  {
   "cell_type": "code",
   "execution_count": 37,
   "metadata": {},
   "outputs": [
    {
     "name": "stdout",
     "output_type": "stream",
     "text": [
      "This is a Demo fn\n"
     ]
    }
   ],
   "source": [
    "print(fn.__doc__)"
   ]
  },
  {
   "cell_type": "code",
   "execution_count": 40,
   "metadata": {},
   "outputs": [
    {
     "name": "stdout",
     "output_type": "stream",
     "text": [
      "Hi\n",
      "In f2\n",
      "bye\n"
     ]
    }
   ],
   "source": [
    "def f1():\n",
    "    print(\"Hi\")\n",
    "    def f2():\n",
    "        print(\"In f2\")\n",
    "    f2()\n",
    "    print(\"bye\") \n",
    "f1()"
   ]
  },
  {
   "cell_type": "code",
   "execution_count": 39,
   "metadata": {},
   "outputs": [
    {
     "name": "stdout",
     "output_type": "stream",
     "text": [
      "Hi\n",
      "In f2\n",
      "bye\n",
      "In f2\n"
     ]
    }
   ],
   "source": [
    "def f1():\n",
    "    print(\"Hi\")\n",
    "    def f2():\n",
    "        print(\"In f2\")\n",
    "    f2()\n",
    "    print(\"bye\")\n",
    "    return f2\n",
    "fn2=f1()\n",
    "fn2()"
   ]
  },
  {
   "cell_type": "code",
   "execution_count": 42,
   "metadata": {},
   "outputs": [],
   "source": [
    "def add(x,y):\n",
    "    return x+y\n",
    "def sub(x,y):\n",
    "    return x-y"
   ]
  },
  {
   "cell_type": "code",
   "execution_count": 43,
   "metadata": {},
   "outputs": [],
   "source": [
    "def cal(fn,x,y):\n",
    "    ans=fn(x,y)\n",
    "    print(ans)"
   ]
  },
  {
   "cell_type": "code",
   "execution_count": 44,
   "metadata": {},
   "outputs": [
    {
     "name": "stdout",
     "output_type": "stream",
     "text": [
      "30\n"
     ]
    }
   ],
   "source": [
    "cal(add, 10,20)"
   ]
  },
  {
   "cell_type": "code",
   "execution_count": 45,
   "metadata": {},
   "outputs": [
    {
     "name": "stdout",
     "output_type": "stream",
     "text": [
      "10\n"
     ]
    }
   ],
   "source": [
    "cal(sub, 50,40)"
   ]
  },
  {
   "cell_type": "markdown",
   "metadata": {},
   "source": [
    "# Lambda Functions"
   ]
  },
  {
   "cell_type": "code",
   "execution_count": 47,
   "metadata": {},
   "outputs": [
    {
     "name": "stdout",
     "output_type": "stream",
     "text": [
      "100\n"
     ]
    }
   ],
   "source": [
    "#also called as anonymous fns(fns without a name)\n",
    "sq = lambda x : x*x\n",
    "print(sq(10))"
   ]
  },
  {
   "cell_type": "code",
   "execution_count": 49,
   "metadata": {},
   "outputs": [
    {
     "name": "stdout",
     "output_type": "stream",
     "text": [
      "200\n"
     ]
    }
   ],
   "source": [
    "#using multiple values\n",
    "cal(lambda x,y : x*y, 10, 20)"
   ]
  },
  {
   "cell_type": "markdown",
   "metadata": {},
   "source": [
    "# Recursion"
   ]
  },
  {
   "cell_type": "code",
   "execution_count": null,
   "metadata": {},
   "outputs": [],
   "source": [
    "#Fibonacci\n"
   ]
  },
  {
   "cell_type": "markdown",
   "metadata": {},
   "source": [
    "# Classes In Python"
   ]
  },
  {
   "cell_type": "code",
   "execution_count": 2,
   "metadata": {},
   "outputs": [],
   "source": [
    "class Person:\n",
    "    # name = 'xyz'\n",
    "    # age = 0\n",
    "    def __init__(self, name = 'xyz', age = 0):\n",
    "        self.name = name\n",
    "        self.age = age"
   ]
  },
  {
   "cell_type": "code",
   "execution_count": 3,
   "metadata": {},
   "outputs": [],
   "source": [
    "p = Person(\"Radhe\", 20)\n",
    "p1 = Person(\"Mohan\",30)"
   ]
  },
  {
   "cell_type": "code",
   "execution_count": 6,
   "metadata": {},
   "outputs": [],
   "source": [
    "p = Person()\n",
    "p1 = Person()"
   ]
  },
  {
   "cell_type": "code",
   "execution_count": 7,
   "metadata": {},
   "outputs": [
    {
     "name": "stdout",
     "output_type": "stream",
     "text": [
      "xyz 0\n"
     ]
    }
   ],
   "source": [
    "print(p.name,p.age)"
   ]
  },
  {
   "cell_type": "code",
   "execution_count": 8,
   "metadata": {},
   "outputs": [
    {
     "ename": "AttributeError",
     "evalue": "'Person' object has no attribute 'roll'",
     "output_type": "error",
     "traceback": [
      "\u001b[1;31m---------------------------------------------------------------------------\u001b[0m",
      "\u001b[1;31mAttributeError\u001b[0m                            Traceback (most recent call last)",
      "Cell \u001b[1;32mIn[8], line 2\u001b[0m\n\u001b[0;32m      1\u001b[0m \u001b[38;5;66;03m# won't print as p.roll is not defined\u001b[39;00m\n\u001b[1;32m----> 2\u001b[0m \u001b[38;5;28mprint\u001b[39m(\u001b[43mp\u001b[49m\u001b[38;5;241;43m.\u001b[39;49m\u001b[43mroll\u001b[49m)\n",
      "\u001b[1;31mAttributeError\u001b[0m: 'Person' object has no attribute 'roll'"
     ]
    }
   ],
   "source": [
    "# won't print as p.roll is not defined\n",
    "print(p.roll)"
   ]
  },
  {
   "cell_type": "code",
   "execution_count": 9,
   "metadata": {},
   "outputs": [
    {
     "name": "stdout",
     "output_type": "stream",
     "text": [
      "127\n"
     ]
    }
   ],
   "source": [
    "#only happen in Python\n",
    "p.roll = 127\n",
    "print(p.roll)"
   ]
  },
  {
   "cell_type": "code",
   "execution_count": 4,
   "metadata": {},
   "outputs": [],
   "source": [
    "class Person:\n",
    "    # name = 'xyz'\n",
    "    # age = 0\n",
    "    def __init__(self, name = 'xyz', age = 0):\n",
    "        self.name = name\n",
    "        self.age = age\n",
    "        \n",
    "    def saysHi(self):\n",
    "        print(\"Hello, I am (name). My age is (age)\".format(name  = self.name, age = self.age))"
   ]
  },
  {
   "cell_type": "code",
   "execution_count": 10,
   "metadata": {},
   "outputs": [
    {
     "name": "stdout",
     "output_type": "stream",
     "text": [
      "xyz 0\n",
      "Hello, I am (name). My age is (age)\n"
     ]
    }
   ],
   "source": [
    "print(p.name, p.age)\n",
    "p1.saysHi()"
   ]
  },
  {
   "cell_type": "code",
   "execution_count": 11,
   "metadata": {},
   "outputs": [
    {
     "ename": "TypeError",
     "evalue": "unsupported operand type(s) for +: 'Person' and 'Person'",
     "output_type": "error",
     "traceback": [
      "\u001b[1;31m---------------------------------------------------------------------------\u001b[0m",
      "\u001b[1;31mTypeError\u001b[0m                                 Traceback (most recent call last)",
      "Cell \u001b[1;32mIn[11], line 1\u001b[0m\n\u001b[1;32m----> 1\u001b[0m p2 \u001b[38;5;241m=\u001b[39m \u001b[43mp1\u001b[49m\u001b[43m \u001b[49m\u001b[38;5;241;43m+\u001b[39;49m\u001b[43m \u001b[49m\u001b[43mp\u001b[49m\n",
      "\u001b[1;31mTypeError\u001b[0m: unsupported operand type(s) for +: 'Person' and 'Person'"
     ]
    }
   ],
   "source": [
    "p2 = p1 + p"
   ]
  },
  {
   "cell_type": "code",
   "execution_count": 12,
   "metadata": {},
   "outputs": [
    {
     "name": "stdout",
     "output_type": "stream",
     "text": [
      "<__main__.Person object at 0x000001919C2E2B10>\n"
     ]
    }
   ],
   "source": [
    "print(p)"
   ]
  },
  {
   "cell_type": "code",
   "execution_count": 13,
   "metadata": {},
   "outputs": [],
   "source": [
    "class Person:\n",
    "    # name = 'xyz'\n",
    "    # age = 0\n",
    "    def __init__(self, name = 'xyz', age = 0):\n",
    "        self.name = name\n",
    "        self.age = age\n",
    "        \n",
    "    def saysHi(self):\n",
    "        print(\"Hello, I am (name). My age is (age)\".format(name  = self.name, age = self.age))\n",
    "    def __str__(self):\n",
    "        return \"Hello, I am (name). My age is (age)\""
   ]
  },
  {
   "cell_type": "code",
   "execution_count": null,
   "metadata": {},
   "outputs": [],
   "source": []
  },
  {
   "cell_type": "code",
   "execution_count": null,
   "metadata": {},
   "outputs": [],
   "source": []
  },
  {
   "cell_type": "code",
   "execution_count": 22,
   "metadata": {},
   "outputs": [
    {
     "name": "stdout",
     "output_type": "stream",
     "text": [
      "Hello 10\n"
     ]
    },
    {
     "ename": "NameError",
     "evalue": "name 'name' is not defined",
     "output_type": "error",
     "traceback": [
      "\u001b[1;31m---------------------------------------------------------------------------\u001b[0m",
      "\u001b[1;31mNameError\u001b[0m                                 Traceback (most recent call last)",
      "Cell \u001b[1;32mIn[22], line 1\u001b[0m\n\u001b[1;32m----> 1\u001b[0m \u001b[38;5;28;01mimport\u001b[39;00m \u001b[38;5;21;01meg\u001b[39;00m\n",
      "File \u001b[1;32mc:\\prachi\\college\\Second Year\\Semester 4\\AIML\\Python\\eg.py:4\u001b[0m\n\u001b[0;32m      1\u001b[0m a \u001b[38;5;241m=\u001b[39m \u001b[38;5;241m10\u001b[39m\n\u001b[0;32m      2\u001b[0m \u001b[38;5;28mprint\u001b[39m(\u001b[38;5;124m\"\u001b[39m\u001b[38;5;124mHello\u001b[39m\u001b[38;5;124m\"\u001b[39m,a)\n\u001b[1;32m----> 4\u001b[0m \u001b[38;5;28;43;01mclass\u001b[39;49;00m\u001b[43m \u001b[49m\u001b[38;5;21;43;01mEmp\u001b[39;49;00m\u001b[43m:\u001b[49m\n\u001b[0;32m      5\u001b[0m \u001b[43m    \u001b[49m\u001b[43mname\u001b[49m \n",
      "File \u001b[1;32mc:\\prachi\\college\\Second Year\\Semester 4\\AIML\\Python\\eg.py:5\u001b[0m, in \u001b[0;36mEmp\u001b[1;34m()\u001b[0m\n\u001b[0;32m      4\u001b[0m \u001b[38;5;28;01mclass\u001b[39;00m \u001b[38;5;21;01mEmp\u001b[39;00m:\n\u001b[1;32m----> 5\u001b[0m     \u001b[43mname\u001b[49m\n",
      "\u001b[1;31mNameError\u001b[0m: name 'name' is not defined"
     ]
    }
   ],
   "source": [
    "import eg"
   ]
  },
  {
   "cell_type": "code",
   "execution_count": 23,
   "metadata": {},
   "outputs": [
    {
     "ename": "NameError",
     "evalue": "name 'eg' is not defined",
     "output_type": "error",
     "traceback": [
      "\u001b[1;31m---------------------------------------------------------------------------\u001b[0m",
      "\u001b[1;31mNameError\u001b[0m                                 Traceback (most recent call last)",
      "Cell \u001b[1;32mIn[23], line 1\u001b[0m\n\u001b[1;32m----> 1\u001b[0m \u001b[38;5;28mdir\u001b[39m (\u001b[43meg\u001b[49m)\n",
      "\u001b[1;31mNameError\u001b[0m: name 'eg' is not defined"
     ]
    }
   ],
   "source": [
    "dir (eg)"
   ]
  },
  {
   "cell_type": "code",
   "execution_count": null,
   "metadata": {},
   "outputs": [],
   "source": []
  },
  {
   "cell_type": "code",
   "execution_count": 24,
   "metadata": {},
   "outputs": [
    {
     "ename": "NameError",
     "evalue": "name 'eg' is not defined",
     "output_type": "error",
     "traceback": [
      "\u001b[1;31m---------------------------------------------------------------------------\u001b[0m",
      "\u001b[1;31mNameError\u001b[0m                                 Traceback (most recent call last)",
      "Cell \u001b[1;32mIn[24], line 1\u001b[0m\n\u001b[1;32m----> 1\u001b[0m \u001b[43meg\u001b[49m\u001b[38;5;241m.\u001b[39ma\n",
      "\u001b[1;31mNameError\u001b[0m: name 'eg' is not defined"
     ]
    }
   ],
   "source": [
    "eg.a"
   ]
  },
  {
   "cell_type": "code",
   "execution_count": 25,
   "metadata": {},
   "outputs": [
    {
     "name": "stdout",
     "output_type": "stream",
     "text": [
      "Hello 10\n"
     ]
    },
    {
     "ename": "NameError",
     "evalue": "name 'name' is not defined",
     "output_type": "error",
     "traceback": [
      "\u001b[1;31m---------------------------------------------------------------------------\u001b[0m",
      "\u001b[1;31mNameError\u001b[0m                                 Traceback (most recent call last)",
      "Cell \u001b[1;32mIn[25], line 1\u001b[0m\n\u001b[1;32m----> 1\u001b[0m \u001b[38;5;28;01mfrom\u001b[39;00m \u001b[38;5;21;01meg\u001b[39;00m \u001b[38;5;28;01mimport\u001b[39;00m a\n",
      "File \u001b[1;32mc:\\prachi\\college\\Second Year\\Semester 4\\AIML\\Python\\eg.py:4\u001b[0m\n\u001b[0;32m      1\u001b[0m a \u001b[38;5;241m=\u001b[39m \u001b[38;5;241m10\u001b[39m\n\u001b[0;32m      2\u001b[0m \u001b[38;5;28mprint\u001b[39m(\u001b[38;5;124m\"\u001b[39m\u001b[38;5;124mHello\u001b[39m\u001b[38;5;124m\"\u001b[39m,a)\n\u001b[1;32m----> 4\u001b[0m \u001b[38;5;28;43;01mclass\u001b[39;49;00m\u001b[43m \u001b[49m\u001b[38;5;21;43;01mEmp\u001b[39;49;00m\u001b[43m:\u001b[49m\n\u001b[0;32m      5\u001b[0m \u001b[43m    \u001b[49m\u001b[43mname\u001b[49m \n",
      "File \u001b[1;32mc:\\prachi\\college\\Second Year\\Semester 4\\AIML\\Python\\eg.py:5\u001b[0m, in \u001b[0;36mEmp\u001b[1;34m()\u001b[0m\n\u001b[0;32m      4\u001b[0m \u001b[38;5;28;01mclass\u001b[39;00m \u001b[38;5;21;01mEmp\u001b[39;00m:\n\u001b[1;32m----> 5\u001b[0m     \u001b[43mname\u001b[49m\n",
      "\u001b[1;31mNameError\u001b[0m: name 'name' is not defined"
     ]
    }
   ],
   "source": [
    "from eg import a"
   ]
  },
  {
   "cell_type": "code",
   "execution_count": 26,
   "metadata": {},
   "outputs": [
    {
     "ename": "NameError",
     "evalue": "name 'a' is not defined",
     "output_type": "error",
     "traceback": [
      "\u001b[1;31m---------------------------------------------------------------------------\u001b[0m",
      "\u001b[1;31mNameError\u001b[0m                                 Traceback (most recent call last)",
      "Cell \u001b[1;32mIn[26], line 1\u001b[0m\n\u001b[1;32m----> 1\u001b[0m \u001b[43ma\u001b[49m\n",
      "\u001b[1;31mNameError\u001b[0m: name 'a' is not defined"
     ]
    }
   ],
   "source": [
    "a"
   ]
  },
  {
   "cell_type": "markdown",
   "metadata": {},
   "source": [
    "# File Handling\n",
    "\n",
    "- open a file{open('file location', mode)}\n",
    "\n",
    "- read or write a file{read(), write()}\n",
    "\n",
    "- close the file{close()}"
   ]
  },
  {
   "cell_type": "code",
   "execution_count": 6,
   "metadata": {},
   "outputs": [],
   "source": [
    "f = open(\"example.txt\",'w')"
   ]
  },
  {
   "cell_type": "code",
   "execution_count": 7,
   "metadata": {},
   "outputs": [
    {
     "data": {
      "text/plain": [
       "29"
      ]
     },
     "execution_count": 7,
     "metadata": {},
     "output_type": "execute_result"
    }
   ],
   "source": [
    "f.write(\"Hello, This is a demo for G8 \\n\")\n",
    "f.write(\"The demo is for file handling\")"
   ]
  },
  {
   "cell_type": "code",
   "execution_count": 8,
   "metadata": {},
   "outputs": [],
   "source": [
    "f.close()"
   ]
  },
  {
   "cell_type": "code",
   "execution_count": 14,
   "metadata": {},
   "outputs": [
    {
     "name": "stdout",
     "output_type": "stream",
     "text": [
      "Hello, Thi\n"
     ]
    }
   ],
   "source": [
    "f=open('example.txt','r')\n",
    "# print(f.read())\n",
    "# print(f.readline())\n",
    "# print(f.readlines())\n",
    "print(f.read(10))\n",
    "f.close()"
   ]
  },
  {
   "cell_type": "code",
   "execution_count": 16,
   "metadata": {},
   "outputs": [
    {
     "ename": "TypeError",
     "evalue": "write() argument must be str, not list",
     "output_type": "error",
     "traceback": [
      "\u001b[1;31m---------------------------------------------------------------------------\u001b[0m",
      "\u001b[1;31mTypeError\u001b[0m                                 Traceback (most recent call last)",
      "Cell \u001b[1;32mIn[16], line 3\u001b[0m\n\u001b[0;32m      1\u001b[0m \u001b[38;5;28;01mwith\u001b[39;00m \u001b[38;5;28mopen\u001b[39m(\u001b[38;5;124m\"\u001b[39m\u001b[38;5;124mexample.txt\u001b[39m\u001b[38;5;124m\"\u001b[39m,\u001b[38;5;124m\"\u001b[39m\u001b[38;5;124mw\u001b[39m\u001b[38;5;124m\"\u001b[39m) \u001b[38;5;28;01mas\u001b[39;00m f:\n\u001b[0;32m      2\u001b[0m     l \u001b[38;5;241m=\u001b[39m [\u001b[38;5;241m1\u001b[39m,\u001b[38;5;241m2\u001b[39m,\u001b[38;5;241m3.4\u001b[39m]\n\u001b[1;32m----> 3\u001b[0m     \u001b[43mf\u001b[49m\u001b[38;5;241;43m.\u001b[39;49m\u001b[43mwrite\u001b[49m\u001b[43m(\u001b[49m\u001b[43ml\u001b[49m\u001b[43m)\u001b[49m\n\u001b[0;32m      5\u001b[0m \u001b[38;5;28;01mwith\u001b[39;00m \u001b[38;5;28mopen\u001b[39m(\u001b[38;5;124m\"\u001b[39m\u001b[38;5;124mexample.txt\u001b[39m\u001b[38;5;124m\"\u001b[39m,\u001b[38;5;124m\"\u001b[39m\u001b[38;5;124mr\u001b[39m\u001b[38;5;124m\"\u001b[39m) \u001b[38;5;28;01mas\u001b[39;00m f:\n\u001b[0;32m      6\u001b[0m     \u001b[38;5;28mprint\u001b[39m(f\u001b[38;5;241m.\u001b[39mread())\n",
      "\u001b[1;31mTypeError\u001b[0m: write() argument must be str, not list"
     ]
    }
   ],
   "source": [
    "with open(\"example.txt\",\"w\") as f:\n",
    "    l = [1,2,3.4]\n",
    "    f.write(l)\n",
    "    \n",
    "with open(\"example.txt\",\"r\") as f:\n",
    "    print(f.read())\n",
    "    \n",
    "#erroe shown as example is a text file which can only accept chars other data types can be assigned to binary files"
   ]
  },
  {
   "cell_type": "code",
   "execution_count": 22,
   "metadata": {},
   "outputs": [],
   "source": [
    "with open(\"example.txt\",\"w\") as f:\n",
    "    for l in range(4):\n",
    "        val = input().split(\" \")\n",
    "        f.write(\"{},{},{},{}\\n\". format(val[0],val[1],val[2],val[3]))\n",
    "    \n",
    "# with open(\"example.txt\",\"r\") as f:\n",
    "    # print(f.read())\n",
    "    \n",
    "#error shown as example is a text file which can only accept chars other data types can be assigned to binary files"
   ]
  },
  {
   "cell_type": "code",
   "execution_count": 23,
   "metadata": {},
   "outputs": [
    {
     "data": {
      "text/plain": [
       "['eram', '45', '67', '78']"
      ]
     },
     "execution_count": 23,
     "metadata": {},
     "output_type": "execute_result"
    }
   ],
   "source": [
    "val = input().split()\n",
    "val"
   ]
  },
  {
   "cell_type": "code",
   "execution_count": null,
   "metadata": {},
   "outputs": [],
   "source": [
    "with open(\"example.txt\",\"w\") as f:"
   ]
  },
  {
   "cell_type": "markdown",
   "metadata": {},
   "source": [
    "# Iterator And Iterable"
   ]
  },
  {
   "cell_type": "code",
   "execution_count": 1,
   "metadata": {},
   "outputs": [],
   "source": [
    "import numpy as np"
   ]
  },
  {
   "cell_type": "code",
   "execution_count": 3,
   "metadata": {},
   "outputs": [
    {
     "ename": "NameError",
     "evalue": "name 'na' is not defined",
     "output_type": "error",
     "traceback": [
      "\u001b[1;31m---------------------------------------------------------------------------\u001b[0m",
      "\u001b[1;31mNameError\u001b[0m                                 Traceback (most recent call last)",
      "Cell \u001b[1;32mIn[3], line 1\u001b[0m\n\u001b[1;32m----> 1\u001b[0m \u001b[43mna\u001b[49m\u001b[38;5;241m.\u001b[39mdtype\n",
      "\u001b[1;31mNameError\u001b[0m: name 'na' is not defined"
     ]
    }
   ],
   "source": [
    "na.dtype\n"
   ]
  },
  {
   "cell_type": "code",
   "execution_count": 4,
   "metadata": {},
   "outputs": [
    {
     "data": {
      "text/plain": [
       "array([1., 3., 5., 7., 9.], dtype=float32)"
      ]
     },
     "execution_count": 4,
     "metadata": {},
     "output_type": "execute_result"
    }
   ],
   "source": [
    "np.arange(1,10,2,dtype='f')"
   ]
  },
  {
   "cell_type": "code",
   "execution_count": 5,
   "metadata": {},
   "outputs": [
    {
     "name": "stdout",
     "output_type": "stream",
     "text": [
      "\u001b[1;31mSignature:\u001b[0m      \n",
      "\u001b[0mnp\u001b[0m\u001b[1;33m.\u001b[0m\u001b[0mlinspace\u001b[0m\u001b[1;33m(\u001b[0m\u001b[1;33m\n",
      "\u001b[0m    \u001b[0mstart\u001b[0m\u001b[1;33m,\u001b[0m\u001b[1;33m\n",
      "\u001b[0m    \u001b[0mstop\u001b[0m\u001b[1;33m,\u001b[0m\u001b[1;33m\n",
      "\u001b[0m    \u001b[0mnum\u001b[0m\u001b[1;33m=\u001b[0m\u001b[1;36m50\u001b[0m\u001b[1;33m,\u001b[0m\u001b[1;33m\n",
      "\u001b[0m    \u001b[0mendpoint\u001b[0m\u001b[1;33m=\u001b[0m\u001b[1;32mTrue\u001b[0m\u001b[1;33m,\u001b[0m\u001b[1;33m\n",
      "\u001b[0m    \u001b[0mretstep\u001b[0m\u001b[1;33m=\u001b[0m\u001b[1;32mFalse\u001b[0m\u001b[1;33m,\u001b[0m\u001b[1;33m\n",
      "\u001b[0m    \u001b[0mdtype\u001b[0m\u001b[1;33m=\u001b[0m\u001b[1;32mNone\u001b[0m\u001b[1;33m,\u001b[0m\u001b[1;33m\n",
      "\u001b[0m    \u001b[0maxis\u001b[0m\u001b[1;33m=\u001b[0m\u001b[1;36m0\u001b[0m\u001b[1;33m,\u001b[0m\u001b[1;33m\n",
      "\u001b[0m\u001b[1;33m)\u001b[0m\u001b[1;33m\u001b[0m\u001b[1;33m\u001b[0m\u001b[0m\n",
      "\u001b[1;31mCall signature:\u001b[0m  \u001b[0mnp\u001b[0m\u001b[1;33m.\u001b[0m\u001b[0mlinspace\u001b[0m\u001b[1;33m(\u001b[0m\u001b[1;33m*\u001b[0m\u001b[0margs\u001b[0m\u001b[1;33m,\u001b[0m \u001b[1;33m**\u001b[0m\u001b[0mkwargs\u001b[0m\u001b[1;33m)\u001b[0m\u001b[1;33m\u001b[0m\u001b[1;33m\u001b[0m\u001b[0m\n",
      "\u001b[1;31mType:\u001b[0m            _ArrayFunctionDispatcher\n",
      "\u001b[1;31mString form:\u001b[0m     <function linspace at 0x000002E1C412A520>\n",
      "\u001b[1;31mFile:\u001b[0m            c:\\users\\prach\\appdata\\local\\packages\\pythonsoftwarefoundation.python.3.12_qbz5n2kfra8p0\\localcache\\local-packages\\python312\\site-packages\\numpy\\core\\function_base.py\n",
      "\u001b[1;31mDocstring:\u001b[0m      \n",
      "Return evenly spaced numbers over a specified interval.\n",
      "\n",
      "Returns `num` evenly spaced samples, calculated over the\n",
      "interval [`start`, `stop`].\n",
      "\n",
      "The endpoint of the interval can optionally be excluded.\n",
      "\n",
      ".. versionchanged:: 1.16.0\n",
      "    Non-scalar `start` and `stop` are now supported.\n",
      "\n",
      ".. versionchanged:: 1.20.0\n",
      "    Values are rounded towards ``-inf`` instead of ``0`` when an\n",
      "    integer ``dtype`` is specified. The old behavior can\n",
      "    still be obtained with ``np.linspace(start, stop, num).astype(int)``\n",
      "\n",
      "Parameters\n",
      "----------\n",
      "start : array_like\n",
      "    The starting value of the sequence.\n",
      "stop : array_like\n",
      "    The end value of the sequence, unless `endpoint` is set to False.\n",
      "    In that case, the sequence consists of all but the last of ``num + 1``\n",
      "    evenly spaced samples, so that `stop` is excluded.  Note that the step\n",
      "    size changes when `endpoint` is False.\n",
      "num : int, optional\n",
      "    Number of samples to generate. Default is 50. Must be non-negative.\n",
      "endpoint : bool, optional\n",
      "    If True, `stop` is the last sample. Otherwise, it is not included.\n",
      "    Default is True.\n",
      "retstep : bool, optional\n",
      "    If True, return (`samples`, `step`), where `step` is the spacing\n",
      "    between samples.\n",
      "dtype : dtype, optional\n",
      "    The type of the output array.  If `dtype` is not given, the data type\n",
      "    is inferred from `start` and `stop`. The inferred dtype will never be\n",
      "    an integer; `float` is chosen even if the arguments would produce an\n",
      "    array of integers.\n",
      "\n",
      "    .. versionadded:: 1.9.0\n",
      "\n",
      "axis : int, optional\n",
      "    The axis in the result to store the samples.  Relevant only if start\n",
      "    or stop are array-like.  By default (0), the samples will be along a\n",
      "    new axis inserted at the beginning. Use -1 to get an axis at the end.\n",
      "\n",
      "    .. versionadded:: 1.16.0\n",
      "\n",
      "Returns\n",
      "-------\n",
      "samples : ndarray\n",
      "    There are `num` equally spaced samples in the closed interval\n",
      "    ``[start, stop]`` or the half-open interval ``[start, stop)``\n",
      "    (depending on whether `endpoint` is True or False).\n",
      "step : float, optional\n",
      "    Only returned if `retstep` is True\n",
      "\n",
      "    Size of spacing between samples.\n",
      "\n",
      "\n",
      "See Also\n",
      "--------\n",
      "arange : Similar to `linspace`, but uses a step size (instead of the\n",
      "         number of samples).\n",
      "geomspace : Similar to `linspace`, but with numbers spaced evenly on a log\n",
      "            scale (a geometric progression).\n",
      "logspace : Similar to `geomspace`, but with the end points specified as\n",
      "           logarithms.\n",
      ":ref:`how-to-partition`\n",
      "\n",
      "Examples\n",
      "--------\n",
      ">>> np.linspace(2.0, 3.0, num=5)\n",
      "array([2.  , 2.25, 2.5 , 2.75, 3.  ])\n",
      ">>> np.linspace(2.0, 3.0, num=5, endpoint=False)\n",
      "array([2. ,  2.2,  2.4,  2.6,  2.8])\n",
      ">>> np.linspace(2.0, 3.0, num=5, retstep=True)\n",
      "(array([2.  ,  2.25,  2.5 ,  2.75,  3.  ]), 0.25)\n",
      "\n",
      "Graphical illustration:\n",
      "\n",
      ">>> import matplotlib.pyplot as plt\n",
      ">>> N = 8\n",
      ">>> y = np.zeros(N)\n",
      ">>> x1 = np.linspace(0, 10, N, endpoint=True)\n",
      ">>> x2 = np.linspace(0, 10, N, endpoint=False)\n",
      ">>> plt.plot(x1, y, 'o')\n",
      "[<matplotlib.lines.Line2D object at 0x...>]\n",
      ">>> plt.plot(x2, y + 0.5, 'o')\n",
      "[<matplotlib.lines.Line2D object at 0x...>]\n",
      ">>> plt.ylim([-0.5, 1])\n",
      "(-0.5, 1)\n",
      ">>> plt.show()\n",
      "\u001b[1;31mClass docstring:\u001b[0m\n",
      "Class to wrap functions with checks for __array_function__ overrides.\n",
      "\n",
      "All arguments are required, and can only be passed by position.\n",
      "\n",
      "Parameters\n",
      "----------\n",
      "dispatcher : function or None\n",
      "    The dispatcher function that returns a single sequence-like object\n",
      "    of all arguments relevant.  It must have the same signature (except\n",
      "    the default values) as the actual implementation.\n",
      "    If ``None``, this is a ``like=`` dispatcher and the\n",
      "    ``_ArrayFunctionDispatcher`` must be called with ``like`` as the\n",
      "    first (additional and positional) argument.\n",
      "implementation : function\n",
      "    Function that implements the operation on NumPy arrays without\n",
      "    overrides.  Arguments passed calling the ``_ArrayFunctionDispatcher``\n",
      "    will be forwarded to this (and the ``dispatcher``) as if using\n",
      "    ``*args, **kwargs``.\n",
      "\n",
      "Attributes\n",
      "----------\n",
      "_implementation : function\n",
      "    The original implementation passed in."
     ]
    }
   ],
   "source": [
    "np.linspace?\n"
   ]
  },
  {
   "cell_type": "code",
   "execution_count": 6,
   "metadata": {},
   "outputs": [
    {
     "name": "stdout",
     "output_type": "stream",
     "text": [
      "\u001b[1;31mSignature:\u001b[0m \u001b[0mnp\u001b[0m\u001b[1;33m.\u001b[0m\u001b[0mones\u001b[0m\u001b[1;33m(\u001b[0m\u001b[0mshape\u001b[0m\u001b[1;33m,\u001b[0m \u001b[0mdtype\u001b[0m\u001b[1;33m=\u001b[0m\u001b[1;32mNone\u001b[0m\u001b[1;33m,\u001b[0m \u001b[0morder\u001b[0m\u001b[1;33m=\u001b[0m\u001b[1;34m'C'\u001b[0m\u001b[1;33m,\u001b[0m \u001b[1;33m*\u001b[0m\u001b[1;33m,\u001b[0m \u001b[0mlike\u001b[0m\u001b[1;33m=\u001b[0m\u001b[1;32mNone\u001b[0m\u001b[1;33m)\u001b[0m\u001b[1;33m\u001b[0m\u001b[1;33m\u001b[0m\u001b[0m\n",
      "\u001b[1;31mDocstring:\u001b[0m\n",
      "Return a new array of given shape and type, filled with ones.\n",
      "\n",
      "Parameters\n",
      "----------\n",
      "shape : int or sequence of ints\n",
      "    Shape of the new array, e.g., ``(2, 3)`` or ``2``.\n",
      "dtype : data-type, optional\n",
      "    The desired data-type for the array, e.g., `numpy.int8`.  Default is\n",
      "    `numpy.float64`.\n",
      "order : {'C', 'F'}, optional, default: C\n",
      "    Whether to store multi-dimensional data in row-major\n",
      "    (C-style) or column-major (Fortran-style) order in\n",
      "    memory.\n",
      "like : array_like, optional\n",
      "    Reference object to allow the creation of arrays which are not\n",
      "    NumPy arrays. If an array-like passed in as ``like`` supports\n",
      "    the ``__array_function__`` protocol, the result will be defined\n",
      "    by it. In this case, it ensures the creation of an array object\n",
      "    compatible with that passed in via this argument.\n",
      "\n",
      "    .. versionadded:: 1.20.0\n",
      "\n",
      "Returns\n",
      "-------\n",
      "out : ndarray\n",
      "    Array of ones with the given shape, dtype, and order.\n",
      "\n",
      "See Also\n",
      "--------\n",
      "ones_like : Return an array of ones with shape and type of input.\n",
      "empty : Return a new uninitialized array.\n",
      "zeros : Return a new array setting values to zero.\n",
      "full : Return a new array of given shape filled with value.\n",
      "\n",
      "\n",
      "Examples\n",
      "--------\n",
      ">>> np.ones(5)\n",
      "array([1., 1., 1., 1., 1.])\n",
      "\n",
      ">>> np.ones((5,), dtype=int)\n",
      "array([1, 1, 1, 1, 1])\n",
      "\n",
      ">>> np.ones((2, 1))\n",
      "array([[1.],\n",
      "       [1.]])\n",
      "\n",
      ">>> s = (2,2)\n",
      ">>> np.ones(s)\n",
      "array([[1.,  1.],\n",
      "       [1.,  1.]])\n",
      "\u001b[1;31mFile:\u001b[0m      c:\\users\\prach\\appdata\\local\\packages\\pythonsoftwarefoundation.python.3.12_qbz5n2kfra8p0\\localcache\\local-packages\\python312\\site-packages\\numpy\\core\\numeric.py\n",
      "\u001b[1;31mType:\u001b[0m      function"
     ]
    }
   ],
   "source": [
    "np.ones?\n"
   ]
  },
  {
   "cell_type": "code",
   "execution_count": 7,
   "metadata": {},
   "outputs": [
    {
     "name": "stdout",
     "output_type": "stream",
     "text": [
      "\u001b[1;31mDocstring:\u001b[0m\n",
      "zeros(shape, dtype=float, order='C', *, like=None)\n",
      "\n",
      "Return a new array of given shape and type, filled with zeros.\n",
      "\n",
      "Parameters\n",
      "----------\n",
      "shape : int or tuple of ints\n",
      "    Shape of the new array, e.g., ``(2, 3)`` or ``2``.\n",
      "dtype : data-type, optional\n",
      "    The desired data-type for the array, e.g., `numpy.int8`.  Default is\n",
      "    `numpy.float64`.\n",
      "order : {'C', 'F'}, optional, default: 'C'\n",
      "    Whether to store multi-dimensional data in row-major\n",
      "    (C-style) or column-major (Fortran-style) order in\n",
      "    memory.\n",
      "like : array_like, optional\n",
      "    Reference object to allow the creation of arrays which are not\n",
      "    NumPy arrays. If an array-like passed in as ``like`` supports\n",
      "    the ``__array_function__`` protocol, the result will be defined\n",
      "    by it. In this case, it ensures the creation of an array object\n",
      "    compatible with that passed in via this argument.\n",
      "\n",
      "    .. versionadded:: 1.20.0\n",
      "\n",
      "Returns\n",
      "-------\n",
      "out : ndarray\n",
      "    Array of zeros with the given shape, dtype, and order.\n",
      "\n",
      "See Also\n",
      "--------\n",
      "zeros_like : Return an array of zeros with shape and type of input.\n",
      "empty : Return a new uninitialized array.\n",
      "ones : Return a new array setting values to one.\n",
      "full : Return a new array of given shape filled with value.\n",
      "\n",
      "Examples\n",
      "--------\n",
      ">>> np.zeros(5)\n",
      "array([ 0.,  0.,  0.,  0.,  0.])\n",
      "\n",
      ">>> np.zeros((5,), dtype=int)\n",
      "array([0, 0, 0, 0, 0])\n",
      "\n",
      ">>> np.zeros((2, 1))\n",
      "array([[ 0.],\n",
      "       [ 0.]])\n",
      "\n",
      ">>> s = (2,2)\n",
      ">>> np.zeros(s)\n",
      "array([[ 0.,  0.],\n",
      "       [ 0.,  0.]])\n",
      "\n",
      ">>> np.zeros((2,), dtype=[('x', 'i4'), ('y', 'i4')]) # custom dtype\n",
      "array([(0, 0), (0, 0)],\n",
      "      dtype=[('x', '<i4'), ('y', '<i4')])\n",
      "\u001b[1;31mType:\u001b[0m      builtin_function_or_method"
     ]
    }
   ],
   "source": [
    "np.zeros?"
   ]
  },
  {
   "cell_type": "code",
   "execution_count": 8,
   "metadata": {},
   "outputs": [
    {
     "name": "stdout",
     "output_type": "stream",
     "text": [
      "\u001b[1;31mSignature:\u001b[0m \u001b[0mnp\u001b[0m\u001b[1;33m.\u001b[0m\u001b[0meye\u001b[0m\u001b[1;33m(\u001b[0m\u001b[0mN\u001b[0m\u001b[1;33m,\u001b[0m \u001b[0mM\u001b[0m\u001b[1;33m=\u001b[0m\u001b[1;32mNone\u001b[0m\u001b[1;33m,\u001b[0m \u001b[0mk\u001b[0m\u001b[1;33m=\u001b[0m\u001b[1;36m0\u001b[0m\u001b[1;33m,\u001b[0m \u001b[0mdtype\u001b[0m\u001b[1;33m=\u001b[0m\u001b[1;33m<\u001b[0m\u001b[1;32mclass\u001b[0m \u001b[1;34m'float'\u001b[0m\u001b[1;33m>\u001b[0m\u001b[1;33m,\u001b[0m \u001b[0morder\u001b[0m\u001b[1;33m=\u001b[0m\u001b[1;34m'C'\u001b[0m\u001b[1;33m,\u001b[0m \u001b[1;33m*\u001b[0m\u001b[1;33m,\u001b[0m \u001b[0mlike\u001b[0m\u001b[1;33m=\u001b[0m\u001b[1;32mNone\u001b[0m\u001b[1;33m)\u001b[0m\u001b[1;33m\u001b[0m\u001b[1;33m\u001b[0m\u001b[0m\n",
      "\u001b[1;31mDocstring:\u001b[0m\n",
      "Return a 2-D array with ones on the diagonal and zeros elsewhere.\n",
      "\n",
      "Parameters\n",
      "----------\n",
      "N : int\n",
      "  Number of rows in the output.\n",
      "M : int, optional\n",
      "  Number of columns in the output. If None, defaults to `N`.\n",
      "k : int, optional\n",
      "  Index of the diagonal: 0 (the default) refers to the main diagonal,\n",
      "  a positive value refers to an upper diagonal, and a negative value\n",
      "  to a lower diagonal.\n",
      "dtype : data-type, optional\n",
      "  Data-type of the returned array.\n",
      "order : {'C', 'F'}, optional\n",
      "    Whether the output should be stored in row-major (C-style) or\n",
      "    column-major (Fortran-style) order in memory.\n",
      "\n",
      "    .. versionadded:: 1.14.0\n",
      "like : array_like, optional\n",
      "    Reference object to allow the creation of arrays which are not\n",
      "    NumPy arrays. If an array-like passed in as ``like`` supports\n",
      "    the ``__array_function__`` protocol, the result will be defined\n",
      "    by it. In this case, it ensures the creation of an array object\n",
      "    compatible with that passed in via this argument.\n",
      "\n",
      "    .. versionadded:: 1.20.0\n",
      "\n",
      "Returns\n",
      "-------\n",
      "I : ndarray of shape (N,M)\n",
      "  An array where all elements are equal to zero, except for the `k`-th\n",
      "  diagonal, whose values are equal to one.\n",
      "\n",
      "See Also\n",
      "--------\n",
      "identity : (almost) equivalent function\n",
      "diag : diagonal 2-D array from a 1-D array specified by the user.\n",
      "\n",
      "Examples\n",
      "--------\n",
      ">>> np.eye(2, dtype=int)\n",
      "array([[1, 0],\n",
      "       [0, 1]])\n",
      ">>> np.eye(3, k=1)\n",
      "array([[0.,  1.,  0.],\n",
      "       [0.,  0.,  1.],\n",
      "       [0.,  0.,  0.]])\n",
      "\u001b[1;31mFile:\u001b[0m      c:\\users\\prach\\appdata\\local\\packages\\pythonsoftwarefoundation.python.3.12_qbz5n2kfra8p0\\localcache\\local-packages\\python312\\site-packages\\numpy\\lib\\twodim_base.py\n",
      "\u001b[1;31mType:\u001b[0m      function"
     ]
    }
   ],
   "source": [
    "np.eye?\n"
   ]
  },
  {
   "cell_type": "code",
   "execution_count": 9,
   "metadata": {},
   "outputs": [
    {
     "name": "stdout",
     "output_type": "stream",
     "text": [
      "\u001b[1;31mSignature:\u001b[0m       \u001b[0mnp\u001b[0m\u001b[1;33m.\u001b[0m\u001b[0mdiag\u001b[0m\u001b[1;33m(\u001b[0m\u001b[0mv\u001b[0m\u001b[1;33m,\u001b[0m \u001b[0mk\u001b[0m\u001b[1;33m=\u001b[0m\u001b[1;36m0\u001b[0m\u001b[1;33m)\u001b[0m\u001b[1;33m\u001b[0m\u001b[1;33m\u001b[0m\u001b[0m\n",
      "\u001b[1;31mCall signature:\u001b[0m  \u001b[0mnp\u001b[0m\u001b[1;33m.\u001b[0m\u001b[0mdiag\u001b[0m\u001b[1;33m(\u001b[0m\u001b[1;33m*\u001b[0m\u001b[0margs\u001b[0m\u001b[1;33m,\u001b[0m \u001b[1;33m**\u001b[0m\u001b[0mkwargs\u001b[0m\u001b[1;33m)\u001b[0m\u001b[1;33m\u001b[0m\u001b[1;33m\u001b[0m\u001b[0m\n",
      "\u001b[1;31mType:\u001b[0m            _ArrayFunctionDispatcher\n",
      "\u001b[1;31mString form:\u001b[0m     <function diag at 0x000002E1C4199120>\n",
      "\u001b[1;31mFile:\u001b[0m            c:\\users\\prach\\appdata\\local\\packages\\pythonsoftwarefoundation.python.3.12_qbz5n2kfra8p0\\localcache\\local-packages\\python312\\site-packages\\numpy\\lib\\twodim_base.py\n",
      "\u001b[1;31mDocstring:\u001b[0m      \n",
      "Extract a diagonal or construct a diagonal array.\n",
      "\n",
      "See the more detailed documentation for ``numpy.diagonal`` if you use this\n",
      "function to extract a diagonal and wish to write to the resulting array;\n",
      "whether it returns a copy or a view depends on what version of numpy you\n",
      "are using.\n",
      "\n",
      "Parameters\n",
      "----------\n",
      "v : array_like\n",
      "    If `v` is a 2-D array, return a copy of its `k`-th diagonal.\n",
      "    If `v` is a 1-D array, return a 2-D array with `v` on the `k`-th\n",
      "    diagonal.\n",
      "k : int, optional\n",
      "    Diagonal in question. The default is 0. Use `k>0` for diagonals\n",
      "    above the main diagonal, and `k<0` for diagonals below the main\n",
      "    diagonal.\n",
      "\n",
      "Returns\n",
      "-------\n",
      "out : ndarray\n",
      "    The extracted diagonal or constructed diagonal array.\n",
      "\n",
      "See Also\n",
      "--------\n",
      "diagonal : Return specified diagonals.\n",
      "diagflat : Create a 2-D array with the flattened input as a diagonal.\n",
      "trace : Sum along diagonals.\n",
      "triu : Upper triangle of an array.\n",
      "tril : Lower triangle of an array.\n",
      "\n",
      "Examples\n",
      "--------\n",
      ">>> x = np.arange(9).reshape((3,3))\n",
      ">>> x\n",
      "array([[0, 1, 2],\n",
      "       [3, 4, 5],\n",
      "       [6, 7, 8]])\n",
      "\n",
      ">>> np.diag(x)\n",
      "array([0, 4, 8])\n",
      ">>> np.diag(x, k=1)\n",
      "array([1, 5])\n",
      ">>> np.diag(x, k=-1)\n",
      "array([3, 7])\n",
      "\n",
      ">>> np.diag(np.diag(x))\n",
      "array([[0, 0, 0],\n",
      "       [0, 4, 0],\n",
      "       [0, 0, 8]])\n",
      "\u001b[1;31mClass docstring:\u001b[0m\n",
      "Class to wrap functions with checks for __array_function__ overrides.\n",
      "\n",
      "All arguments are required, and can only be passed by position.\n",
      "\n",
      "Parameters\n",
      "----------\n",
      "dispatcher : function or None\n",
      "    The dispatcher function that returns a single sequence-like object\n",
      "    of all arguments relevant.  It must have the same signature (except\n",
      "    the default values) as the actual implementation.\n",
      "    If ``None``, this is a ``like=`` dispatcher and the\n",
      "    ``_ArrayFunctionDispatcher`` must be called with ``like`` as the\n",
      "    first (additional and positional) argument.\n",
      "implementation : function\n",
      "    Function that implements the operation on NumPy arrays without\n",
      "    overrides.  Arguments passed calling the ``_ArrayFunctionDispatcher``\n",
      "    will be forwarded to this (and the ``dispatcher``) as if using\n",
      "    ``*args, **kwargs``.\n",
      "\n",
      "Attributes\n",
      "----------\n",
      "_implementation : function\n",
      "    The original implementation passed in."
     ]
    }
   ],
   "source": [
    "np.diag?\n"
   ]
  },
  {
   "cell_type": "code",
   "execution_count": 10,
   "metadata": {},
   "outputs": [
    {
     "data": {
      "text/plain": [
       "array([[0.42482044, 0.89425626, 0.74487427, 0.46407894, 0.26225335],\n",
       "       [0.21672245, 0.55510399, 0.82262276, 0.29294394, 0.25535614]])"
      ]
     },
     "execution_count": 10,
     "metadata": {},
     "output_type": "execute_result"
    }
   ],
   "source": [
    "np.random.rand(2,5)"
   ]
  },
  {
   "cell_type": "code",
   "execution_count": 11,
   "metadata": {},
   "outputs": [
    {
     "data": {
      "text/plain": [
       "array([ 1,  2,  3,  4,  5,  6,  7,  8,  9, 10, 11, 12, 13, 14, 15, 16, 17,\n",
       "       18, 19, 20])"
      ]
     },
     "execution_count": 11,
     "metadata": {},
     "output_type": "execute_result"
    }
   ],
   "source": [
    "np.arange(1,21)"
   ]
  },
  {
   "cell_type": "code",
   "execution_count": 12,
   "metadata": {},
   "outputs": [],
   "source": [
    "na = np.arange(1,21)"
   ]
  },
  {
   "cell_type": "code",
   "execution_count": 16,
   "metadata": {},
   "outputs": [
    {
     "data": {
      "text/plain": [
       "array([[ 1,  2,  3,  4],\n",
       "       [ 5,  6,  7,  8],\n",
       "       [ 9, 10, 11, 12],\n",
       "       [13, 14, 15, 16],\n",
       "       [17, 18, 19, 20]])"
      ]
     },
     "execution_count": 16,
     "metadata": {},
     "output_type": "execute_result"
    }
   ],
   "source": [
    "na = na.reshape((5,-1))\n",
    "na"
   ]
  },
  {
   "cell_type": "code",
   "execution_count": 18,
   "metadata": {},
   "outputs": [],
   "source": [
    "b = na[0:2,2:4]\n",
    "b = np.array([[10,20],[30,40]])\n"
   ]
  },
  {
   "cell_type": "code",
   "execution_count": 2,
   "metadata": {},
   "outputs": [],
   "source": [
    "import numpy as np"
   ]
  },
  {
   "cell_type": "code",
   "execution_count": 3,
   "metadata": {},
   "outputs": [],
   "source": [
    "na = np.loadtxt(\"populations.txt\")"
   ]
  },
  {
   "cell_type": "code",
   "execution_count": 4,
   "metadata": {},
   "outputs": [],
   "source": [
    "ans = na[:,1:].argmax(axis=1)"
   ]
  },
  {
   "cell_type": "code",
   "execution_count": null,
   "metadata": {},
   "outputs": [],
   "source": [
    "l =[\"hare\",\"lynx\",\"carrot\"]\n",
    "for ind, ele in enumerate(map(lambda x: 1[x]))"
   ]
  },
  {
   "cell_type": "code",
   "execution_count": 5,
   "metadata": {},
   "outputs": [
    {
     "name": "stdout",
     "output_type": "stream",
     "text": [
      "\u001b[1;31mSignature:\u001b[0m       \u001b[0mnp\u001b[0m\u001b[1;33m.\u001b[0m\u001b[0mtile\u001b[0m\u001b[1;33m(\u001b[0m\u001b[0mA\u001b[0m\u001b[1;33m,\u001b[0m \u001b[0mreps\u001b[0m\u001b[1;33m)\u001b[0m\u001b[1;33m\u001b[0m\u001b[1;33m\u001b[0m\u001b[0m\n",
      "\u001b[1;31mCall signature:\u001b[0m  \u001b[0mnp\u001b[0m\u001b[1;33m.\u001b[0m\u001b[0mtile\u001b[0m\u001b[1;33m(\u001b[0m\u001b[1;33m*\u001b[0m\u001b[0margs\u001b[0m\u001b[1;33m,\u001b[0m \u001b[1;33m**\u001b[0m\u001b[0mkwargs\u001b[0m\u001b[1;33m)\u001b[0m\u001b[1;33m\u001b[0m\u001b[1;33m\u001b[0m\u001b[0m\n",
      "\u001b[1;31mType:\u001b[0m            _ArrayFunctionDispatcher\n",
      "\u001b[1;31mString form:\u001b[0m     <function tile at 0x0000022AC3539BC0>\n",
      "\u001b[1;31mFile:\u001b[0m            c:\\users\\prach\\appdata\\local\\packages\\pythonsoftwarefoundation.python.3.12_qbz5n2kfra8p0\\localcache\\local-packages\\python312\\site-packages\\numpy\\lib\\shape_base.py\n",
      "\u001b[1;31mDocstring:\u001b[0m      \n",
      "Construct an array by repeating A the number of times given by reps.\n",
      "\n",
      "If `reps` has length ``d``, the result will have dimension of\n",
      "``max(d, A.ndim)``.\n",
      "\n",
      "If ``A.ndim < d``, `A` is promoted to be d-dimensional by prepending new\n",
      "axes. So a shape (3,) array is promoted to (1, 3) for 2-D replication,\n",
      "or shape (1, 1, 3) for 3-D replication. If this is not the desired\n",
      "behavior, promote `A` to d-dimensions manually before calling this\n",
      "function.\n",
      "\n",
      "If ``A.ndim > d``, `reps` is promoted to `A`.ndim by pre-pending 1's to it.\n",
      "Thus for an `A` of shape (2, 3, 4, 5), a `reps` of (2, 2) is treated as\n",
      "(1, 1, 2, 2).\n",
      "\n",
      "Note : Although tile may be used for broadcasting, it is strongly\n",
      "recommended to use numpy's broadcasting operations and functions.\n",
      "\n",
      "Parameters\n",
      "----------\n",
      "A : array_like\n",
      "    The input array.\n",
      "reps : array_like\n",
      "    The number of repetitions of `A` along each axis.\n",
      "\n",
      "Returns\n",
      "-------\n",
      "c : ndarray\n",
      "    The tiled output array.\n",
      "\n",
      "See Also\n",
      "--------\n",
      "repeat : Repeat elements of an array.\n",
      "broadcast_to : Broadcast an array to a new shape\n",
      "\n",
      "Examples\n",
      "--------\n",
      ">>> a = np.array([0, 1, 2])\n",
      ">>> np.tile(a, 2)\n",
      "array([0, 1, 2, 0, 1, 2])\n",
      ">>> np.tile(a, (2, 2))\n",
      "array([[0, 1, 2, 0, 1, 2],\n",
      "       [0, 1, 2, 0, 1, 2]])\n",
      ">>> np.tile(a, (2, 1, 2))\n",
      "array([[[0, 1, 2, 0, 1, 2]],\n",
      "       [[0, 1, 2, 0, 1, 2]]])\n",
      "\n",
      ">>> b = np.array([[1, 2], [3, 4]])\n",
      ">>> np.tile(b, 2)\n",
      "array([[1, 2, 1, 2],\n",
      "       [3, 4, 3, 4]])\n",
      ">>> np.tile(b, (2, 1))\n",
      "array([[1, 2],\n",
      "       [3, 4],\n",
      "       [1, 2],\n",
      "       [3, 4]])\n",
      "\n",
      ">>> c = np.array([1,2,3,4])\n",
      ">>> np.tile(c,(4,1))\n",
      "array([[1, 2, 3, 4],\n",
      "       [1, 2, 3, 4],\n",
      "       [1, 2, 3, 4],\n",
      "       [1, 2, 3, 4]])\n",
      "\u001b[1;31mClass docstring:\u001b[0m\n",
      "Class to wrap functions with checks for __array_function__ overrides.\n",
      "\n",
      "All arguments are required, and can only be passed by position.\n",
      "\n",
      "Parameters\n",
      "----------\n",
      "dispatcher : function or None\n",
      "    The dispatcher function that returns a single sequence-like object\n",
      "    of all arguments relevant.  It must have the same signature (except\n",
      "    the default values) as the actual implementation.\n",
      "    If ``None``, this is a ``like=`` dispatcher and the\n",
      "    ``_ArrayFunctionDispatcher`` must be called with ``like`` as the\n",
      "    first (additional and positional) argument.\n",
      "implementation : function\n",
      "    Function that implements the operation on NumPy arrays without\n",
      "    overrides.  Arguments passed calling the ``_ArrayFunctionDispatcher``\n",
      "    will be forwarded to this (and the ``dispatcher``) as if using\n",
      "    ``*args, **kwargs``.\n",
      "\n",
      "Attributes\n",
      "----------\n",
      "_implementation : function\n",
      "    The original implementation passed in."
     ]
    }
   ],
   "source": [
    "a = np.tile?"
   ]
  },
  {
   "cell_type": "code",
   "execution_count": 8,
   "metadata": {},
   "outputs": [
    {
     "data": {
      "text/plain": [
       "array([[1, 2, 3, 1, 2, 3],\n",
       "       [1, 2, 3, 1, 2, 3],\n",
       "       [1, 2, 3, 1, 2, 3]])"
      ]
     },
     "execution_count": 8,
     "metadata": {},
     "output_type": "execute_result"
    }
   ],
   "source": [
    "a = np.tile([1,2,3],(3,2))\n",
    "a"
   ]
  },
  {
   "cell_type": "code",
   "execution_count": 11,
   "metadata": {},
   "outputs": [
    {
     "data": {
      "text/plain": [
       "array([[1, 2, 3],\n",
       "       [1, 2, 3],\n",
       "       [1, 2, 3]])"
      ]
     },
     "execution_count": 11,
     "metadata": {},
     "output_type": "execute_result"
    }
   ],
   "source": [
    "a = np.tile([1,2,3],(3,1))\n",
    "a"
   ]
  },
  {
   "cell_type": "code",
   "execution_count": 9,
   "metadata": {},
   "outputs": [
    {
     "data": {
      "text/plain": [
       "array([[ 0, 10, 20],\n",
       "       [ 0, 10, 20],\n",
       "       [ 0, 10, 20]])"
      ]
     },
     "execution_count": 9,
     "metadata": {},
     "output_type": "execute_result"
    }
   ],
   "source": [
    "b=np.tile([0,10,20],(3,1))\n",
    "b"
   ]
  },
  {
   "cell_type": "code",
   "execution_count": 12,
   "metadata": {},
   "outputs": [
    {
     "data": {
      "text/plain": [
       "array([[ 1, 12, 23],\n",
       "       [ 1, 12, 23],\n",
       "       [ 1, 12, 23]])"
      ]
     },
     "execution_count": 12,
     "metadata": {},
     "output_type": "execute_result"
    }
   ],
   "source": [
    "a+b"
   ]
  },
  {
   "cell_type": "code",
   "execution_count": 14,
   "metadata": {},
   "outputs": [
    {
     "data": {
      "text/plain": [
       "array([ 0, 10, 20])"
      ]
     },
     "execution_count": 14,
     "metadata": {},
     "output_type": "execute_result"
    }
   ],
   "source": [
    "b = np.array([0,10,20])\n",
    "b"
   ]
  },
  {
   "cell_type": "code",
   "execution_count": 15,
   "metadata": {},
   "outputs": [
    {
     "data": {
      "text/plain": [
       "array([[ 1, 12, 23],\n",
       "       [ 1, 12, 23],\n",
       "       [ 1, 12, 23]])"
      ]
     },
     "execution_count": 15,
     "metadata": {},
     "output_type": "execute_result"
    }
   ],
   "source": [
    "a+b"
   ]
  },
  {
   "cell_type": "code",
   "execution_count": null,
   "metadata": {},
   "outputs": [],
   "source": [
    "font = {'family':'serif', 'color':'blue', 'weight':'normal','size':16}\n",
    "plt.plot(x,y1,label='Potato',color = 'r', linestyle = \"--\", linewidth = 2, marker = '*', markerfacecolor = 'b', markersize = 10)\n",
    "plt.plot(x,y2,'g:o',label='Onion')\n",
    "plt.xlabel('Quantity')\n",
    "plt.ylabel('Prices')\n",
    "plt.title('Vegeatable Prices',fontdict = font)\n",
    "plt.legend()\n",
    "plt.grid()\n",
    "plt.show()"
   ]
  },
  {
   "cell_type": "markdown",
   "metadata": {},
   "source": [
    "# Bar Graph"
   ]
  },
  {
   "cell_type": "code",
   "execution_count": 7,
   "metadata": {},
   "outputs": [],
   "source": [
    "import matplotlib.pyplot as plt\n",
    "import numpy as np"
   ]
  },
  {
   "cell_type": "code",
   "execution_count": 5,
   "metadata": {},
   "outputs": [
    {
     "name": "stdout",
     "output_type": "stream",
     "text": [
      "\u001b[1;31mSignature:\u001b[0m\n",
      "\u001b[0mplt\u001b[0m\u001b[1;33m.\u001b[0m\u001b[0mbar\u001b[0m\u001b[1;33m(\u001b[0m\u001b[1;33m\n",
      "\u001b[0m    \u001b[0mx\u001b[0m\u001b[1;33m:\u001b[0m \u001b[1;34m'float | ArrayLike'\u001b[0m\u001b[1;33m,\u001b[0m\u001b[1;33m\n",
      "\u001b[0m    \u001b[0mheight\u001b[0m\u001b[1;33m:\u001b[0m \u001b[1;34m'float | ArrayLike'\u001b[0m\u001b[1;33m,\u001b[0m\u001b[1;33m\n",
      "\u001b[0m    \u001b[0mwidth\u001b[0m\u001b[1;33m:\u001b[0m \u001b[1;34m'float | ArrayLike'\u001b[0m \u001b[1;33m=\u001b[0m \u001b[1;36m0.8\u001b[0m\u001b[1;33m,\u001b[0m\u001b[1;33m\n",
      "\u001b[0m    \u001b[0mbottom\u001b[0m\u001b[1;33m:\u001b[0m \u001b[1;34m'float | ArrayLike | None'\u001b[0m \u001b[1;33m=\u001b[0m \u001b[1;32mNone\u001b[0m\u001b[1;33m,\u001b[0m\u001b[1;33m\n",
      "\u001b[0m    \u001b[1;33m*\u001b[0m\u001b[1;33m,\u001b[0m\u001b[1;33m\n",
      "\u001b[0m    \u001b[0malign\u001b[0m\u001b[1;33m:\u001b[0m \u001b[1;34m\"Literal['center', 'edge']\"\u001b[0m \u001b[1;33m=\u001b[0m \u001b[1;34m'center'\u001b[0m\u001b[1;33m,\u001b[0m\u001b[1;33m\n",
      "\u001b[0m    \u001b[0mdata\u001b[0m\u001b[1;33m=\u001b[0m\u001b[1;32mNone\u001b[0m\u001b[1;33m,\u001b[0m\u001b[1;33m\n",
      "\u001b[0m    \u001b[1;33m**\u001b[0m\u001b[0mkwargs\u001b[0m\u001b[1;33m,\u001b[0m\u001b[1;33m\n",
      "\u001b[0m\u001b[1;33m)\u001b[0m \u001b[1;33m->\u001b[0m \u001b[1;34m'BarContainer'\u001b[0m\u001b[1;33m\u001b[0m\u001b[1;33m\u001b[0m\u001b[0m\n",
      "\u001b[1;31mDocstring:\u001b[0m\n",
      "Make a bar plot.\n",
      "\n",
      "The bars are positioned at *x* with the given *align*\\ment. Their\n",
      "dimensions are given by *height* and *width*. The vertical baseline\n",
      "is *bottom* (default 0).\n",
      "\n",
      "Many parameters can take either a single value applying to all bars\n",
      "or a sequence of values, one for each bar.\n",
      "\n",
      "Parameters\n",
      "----------\n",
      "x : float or array-like\n",
      "    The x coordinates of the bars. See also *align* for the\n",
      "    alignment of the bars to the coordinates.\n",
      "\n",
      "height : float or array-like\n",
      "    The height(s) of the bars.\n",
      "\n",
      "    Note that if *bottom* has units (e.g. datetime), *height* should be in\n",
      "    units that are a difference from the value of *bottom* (e.g. timedelta).\n",
      "\n",
      "width : float or array-like, default: 0.8\n",
      "    The width(s) of the bars.\n",
      "\n",
      "    Note that if *x* has units (e.g. datetime), then *width* should be in\n",
      "    units that are a difference (e.g. timedelta) around the *x* values.\n",
      "\n",
      "bottom : float or array-like, default: 0\n",
      "    The y coordinate(s) of the bottom side(s) of the bars.\n",
      "\n",
      "    Note that if *bottom* has units, then the y-axis will get a Locator and\n",
      "    Formatter appropriate for the units (e.g. dates, or categorical).\n",
      "\n",
      "align : {'center', 'edge'}, default: 'center'\n",
      "    Alignment of the bars to the *x* coordinates:\n",
      "\n",
      "    - 'center': Center the base on the *x* positions.\n",
      "    - 'edge': Align the left edges of the bars with the *x* positions.\n",
      "\n",
      "    To align the bars on the right edge pass a negative *width* and\n",
      "    ``align='edge'``.\n",
      "\n",
      "Returns\n",
      "-------\n",
      "`.BarContainer`\n",
      "    Container with all the bars and optionally errorbars.\n",
      "\n",
      "Other Parameters\n",
      "----------------\n",
      "color : color or list of color, optional\n",
      "    The colors of the bar faces.\n",
      "\n",
      "edgecolor : color or list of color, optional\n",
      "    The colors of the bar edges.\n",
      "\n",
      "linewidth : float or array-like, optional\n",
      "    Width of the bar edge(s). If 0, don't draw edges.\n",
      "\n",
      "tick_label : str or list of str, optional\n",
      "    The tick labels of the bars.\n",
      "    Default: None (Use default numeric labels.)\n",
      "\n",
      "label : str or list of str, optional\n",
      "    A single label is attached to the resulting `.BarContainer` as a\n",
      "    label for the whole dataset.\n",
      "    If a list is provided, it must be the same length as *x* and\n",
      "    labels the individual bars. Repeated labels are not de-duplicated\n",
      "    and will cause repeated label entries, so this is best used when\n",
      "    bars also differ in style (e.g., by passing a list to *color*.)\n",
      "\n",
      "xerr, yerr : float or array-like of shape(N,) or shape(2, N), optional\n",
      "    If not *None*, add horizontal / vertical errorbars to the bar tips.\n",
      "    The values are +/- sizes relative to the data:\n",
      "\n",
      "    - scalar: symmetric +/- values for all bars\n",
      "    - shape(N,): symmetric +/- values for each bar\n",
      "    - shape(2, N): Separate - and + values for each bar. First row\n",
      "      contains the lower errors, the second row contains the upper\n",
      "      errors.\n",
      "    - *None*: No errorbar. (Default)\n",
      "\n",
      "    See :doc:`/gallery/statistics/errorbar_features` for an example on\n",
      "    the usage of *xerr* and *yerr*.\n",
      "\n",
      "ecolor : color or list of color, default: 'black'\n",
      "    The line color of the errorbars.\n",
      "\n",
      "capsize : float, default: :rc:`errorbar.capsize`\n",
      "   The length of the error bar caps in points.\n",
      "\n",
      "error_kw : dict, optional\n",
      "    Dictionary of keyword arguments to be passed to the\n",
      "    `~.Axes.errorbar` method. Values of *ecolor* or *capsize* defined\n",
      "    here take precedence over the independent keyword arguments.\n",
      "\n",
      "log : bool, default: False\n",
      "    If *True*, set the y-axis to be log scale.\n",
      "\n",
      "data : indexable object, optional\n",
      "    If given, all parameters also accept a string ``s``, which is\n",
      "    interpreted as ``data[s]`` (unless this raises an exception).\n",
      "\n",
      "**kwargs : `.Rectangle` properties\n",
      "\n",
      "Properties:\n",
      "    agg_filter: a filter function, which takes a (m, n, 3) float array and a dpi value, and returns a (m, n, 3) array and two offsets from the bottom left corner of the image\n",
      "    alpha: scalar or None\n",
      "    angle: unknown\n",
      "    animated: bool\n",
      "    antialiased or aa: bool or None\n",
      "    bounds: (left, bottom, width, height)\n",
      "    capstyle: `.CapStyle` or {'butt', 'projecting', 'round'}\n",
      "    clip_box: `~matplotlib.transforms.BboxBase` or None\n",
      "    clip_on: bool\n",
      "    clip_path: Patch or (Path, Transform) or None\n",
      "    color: color\n",
      "    edgecolor or ec: color or None\n",
      "    facecolor or fc: color or None\n",
      "    figure: `~matplotlib.figure.Figure`\n",
      "    fill: bool\n",
      "    gid: str\n",
      "    hatch: {'/', '\\\\', '|', '-', '+', 'x', 'o', 'O', '.', '*'}\n",
      "    height: unknown\n",
      "    in_layout: bool\n",
      "    joinstyle: `.JoinStyle` or {'miter', 'round', 'bevel'}\n",
      "    label: object\n",
      "    linestyle or ls: {'-', '--', '-.', ':', '', (offset, on-off-seq), ...}\n",
      "    linewidth or lw: float or None\n",
      "    mouseover: bool\n",
      "    path_effects: list of `.AbstractPathEffect`\n",
      "    picker: None or bool or float or callable\n",
      "    rasterized: bool\n",
      "    sketch_params: (scale: float, length: float, randomness: float)\n",
      "    snap: bool or None\n",
      "    transform: `~matplotlib.transforms.Transform`\n",
      "    url: str\n",
      "    visible: bool\n",
      "    width: unknown\n",
      "    x: unknown\n",
      "    xy: (float, float)\n",
      "    y: unknown\n",
      "    zorder: float\n",
      "\n",
      "See Also\n",
      "--------\n",
      "barh : Plot a horizontal bar plot.\n",
      "\n",
      "Notes\n",
      "-----\n",
      "Stacked bars can be achieved by passing individual *bottom* values per\n",
      "bar. See :doc:`/gallery/lines_bars_and_markers/bar_stacked`.\n",
      "\u001b[1;31mFile:\u001b[0m      c:\\users\\prach\\appdata\\local\\packages\\pythonsoftwarefoundation.python.3.12_qbz5n2kfra8p0\\localcache\\local-packages\\python312\\site-packages\\matplotlib\\pyplot.py\n",
      "\u001b[1;31mType:\u001b[0m      function"
     ]
    }
   ],
   "source": [
    "plt.bar?\n"
   ]
  },
  {
   "cell_type": "code",
   "execution_count": 8,
   "metadata": {},
   "outputs": [
    {
     "data": {
      "image/png": "[encoded data removed]",
      "text/plain": [
       "<Figure size 640x480 with 1 Axes>"
      ]
     },
     "metadata": {},
     "output_type": "display_data"
    }
   ],
   "source": [
    "x= np.array([1,2,3])\n",
    "y = np.array([10,20,30])\n",
    "\n",
    "# plt.bar(x,y)\n",
    "plt.bar(x,y,tick_label = {'Silver','Gold','Platinum'})\n",
    "plt.ylabel('Prices')\n",
    "plt.title(\"Metal Prices\")\n",
    "plt.show()\n"
   ]
  },
  {
   "cell_type": "markdown",
   "metadata": {},
   "source": [
    "# Pie Chart\n",
    "\n",
    "- Value given in a pie chart is normalised\n",
    "\n"
   ]
  },
  {
   "cell_type": "code",
   "execution_count": 10,
   "metadata": {},
   "outputs": [
    {
     "name": "stdout",
     "output_type": "stream",
     "text": [
      "\u001b[1;31mSignature:\u001b[0m\n",
      "\u001b[0mplt\u001b[0m\u001b[1;33m.\u001b[0m\u001b[0mpie\u001b[0m\u001b[1;33m(\u001b[0m\u001b[1;33m\n",
      "\u001b[0m    \u001b[0mx\u001b[0m\u001b[1;33m:\u001b[0m \u001b[1;34m'ArrayLike'\u001b[0m\u001b[1;33m,\u001b[0m\u001b[1;33m\n",
      "\u001b[0m    \u001b[0mexplode\u001b[0m\u001b[1;33m:\u001b[0m \u001b[1;34m'ArrayLike | None'\u001b[0m \u001b[1;33m=\u001b[0m \u001b[1;32mNone\u001b[0m\u001b[1;33m,\u001b[0m\u001b[1;33m\n",
      "\u001b[0m    \u001b[0mlabels\u001b[0m\u001b[1;33m:\u001b[0m \u001b[1;34m'Sequence[str] | None'\u001b[0m \u001b[1;33m=\u001b[0m \u001b[1;32mNone\u001b[0m\u001b[1;33m,\u001b[0m\u001b[1;33m\n",
      "\u001b[0m    \u001b[0mcolors\u001b[0m\u001b[1;33m:\u001b[0m \u001b[1;34m'ColorType | Sequence[ColorType] | None'\u001b[0m \u001b[1;33m=\u001b[0m \u001b[1;32mNone\u001b[0m\u001b[1;33m,\u001b[0m\u001b[1;33m\n",
      "\u001b[0m    \u001b[0mautopct\u001b[0m\u001b[1;33m:\u001b[0m \u001b[1;34m'str | Callable[[float], str] | None'\u001b[0m \u001b[1;33m=\u001b[0m \u001b[1;32mNone\u001b[0m\u001b[1;33m,\u001b[0m\u001b[1;33m\n",
      "\u001b[0m    \u001b[0mpctdistance\u001b[0m\u001b[1;33m:\u001b[0m \u001b[1;34m'float'\u001b[0m \u001b[1;33m=\u001b[0m \u001b[1;36m0.6\u001b[0m\u001b[1;33m,\u001b[0m\u001b[1;33m\n",
      "\u001b[0m    \u001b[0mshadow\u001b[0m\u001b[1;33m:\u001b[0m \u001b[1;34m'bool'\u001b[0m \u001b[1;33m=\u001b[0m \u001b[1;32mFalse\u001b[0m\u001b[1;33m,\u001b[0m\u001b[1;33m\n",
      "\u001b[0m    \u001b[0mlabeldistance\u001b[0m\u001b[1;33m:\u001b[0m \u001b[1;34m'float | None'\u001b[0m \u001b[1;33m=\u001b[0m \u001b[1;36m1.1\u001b[0m\u001b[1;33m,\u001b[0m\u001b[1;33m\n",
      "\u001b[0m    \u001b[0mstartangle\u001b[0m\u001b[1;33m:\u001b[0m \u001b[1;34m'float'\u001b[0m \u001b[1;33m=\u001b[0m \u001b[1;36m0\u001b[0m\u001b[1;33m,\u001b[0m\u001b[1;33m\n",
      "\u001b[0m    \u001b[0mradius\u001b[0m\u001b[1;33m:\u001b[0m \u001b[1;34m'float'\u001b[0m \u001b[1;33m=\u001b[0m \u001b[1;36m1\u001b[0m\u001b[1;33m,\u001b[0m\u001b[1;33m\n",
      "\u001b[0m    \u001b[0mcounterclock\u001b[0m\u001b[1;33m:\u001b[0m \u001b[1;34m'bool'\u001b[0m \u001b[1;33m=\u001b[0m \u001b[1;32mTrue\u001b[0m\u001b[1;33m,\u001b[0m\u001b[1;33m\n",
      "\u001b[0m    \u001b[0mwedgeprops\u001b[0m\u001b[1;33m:\u001b[0m \u001b[1;34m'dict[str, Any] | None'\u001b[0m \u001b[1;33m=\u001b[0m \u001b[1;32mNone\u001b[0m\u001b[1;33m,\u001b[0m\u001b[1;33m\n",
      "\u001b[0m    \u001b[0mtextprops\u001b[0m\u001b[1;33m:\u001b[0m \u001b[1;34m'dict[str, Any] | None'\u001b[0m \u001b[1;33m=\u001b[0m \u001b[1;32mNone\u001b[0m\u001b[1;33m,\u001b[0m\u001b[1;33m\n",
      "\u001b[0m    \u001b[0mcenter\u001b[0m\u001b[1;33m:\u001b[0m \u001b[1;34m'tuple[float, float]'\u001b[0m \u001b[1;33m=\u001b[0m \u001b[1;33m(\u001b[0m\u001b[1;36m0\u001b[0m\u001b[1;33m,\u001b[0m \u001b[1;36m0\u001b[0m\u001b[1;33m)\u001b[0m\u001b[1;33m,\u001b[0m\u001b[1;33m\n",
      "\u001b[0m    \u001b[0mframe\u001b[0m\u001b[1;33m:\u001b[0m \u001b[1;34m'bool'\u001b[0m \u001b[1;33m=\u001b[0m \u001b[1;32mFalse\u001b[0m\u001b[1;33m,\u001b[0m\u001b[1;33m\n",
      "\u001b[0m    \u001b[0mrotatelabels\u001b[0m\u001b[1;33m:\u001b[0m \u001b[1;34m'bool'\u001b[0m \u001b[1;33m=\u001b[0m \u001b[1;32mFalse\u001b[0m\u001b[1;33m,\u001b[0m\u001b[1;33m\n",
      "\u001b[0m    \u001b[1;33m*\u001b[0m\u001b[1;33m,\u001b[0m\u001b[1;33m\n",
      "\u001b[0m    \u001b[0mnormalize\u001b[0m\u001b[1;33m:\u001b[0m \u001b[1;34m'bool'\u001b[0m \u001b[1;33m=\u001b[0m \u001b[1;32mTrue\u001b[0m\u001b[1;33m,\u001b[0m\u001b[1;33m\n",
      "\u001b[0m    \u001b[0mhatch\u001b[0m\u001b[1;33m:\u001b[0m \u001b[1;34m'str | Sequence[str] | None'\u001b[0m \u001b[1;33m=\u001b[0m \u001b[1;32mNone\u001b[0m\u001b[1;33m,\u001b[0m\u001b[1;33m\n",
      "\u001b[0m    \u001b[0mdata\u001b[0m\u001b[1;33m=\u001b[0m\u001b[1;32mNone\u001b[0m\u001b[1;33m,\u001b[0m\u001b[1;33m\n",
      "\u001b[0m\u001b[1;33m)\u001b[0m \u001b[1;33m->\u001b[0m \u001b[1;34m'tuple[list[Wedge], list[Text]] | tuple[list[Wedge], list[Text], list[Text]]'\u001b[0m\u001b[1;33m\u001b[0m\u001b[1;33m\u001b[0m\u001b[0m\n",
      "\u001b[1;31mDocstring:\u001b[0m\n",
      "Plot a pie chart.\n",
      "\n",
      "Make a pie chart of array *x*.  The fractional area of each wedge is\n",
      "given by ``x/sum(x)``.\n",
      "\n",
      "The wedges are plotted counterclockwise, by default starting from the\n",
      "x-axis.\n",
      "\n",
      "Parameters\n",
      "----------\n",
      "x : 1D array-like\n",
      "    The wedge sizes.\n",
      "\n",
      "explode : array-like, default: None\n",
      "    If not *None*, is a ``len(x)`` array which specifies the fraction\n",
      "    of the radius with which to offset each wedge.\n",
      "\n",
      "labels : list, default: None\n",
      "    A sequence of strings providing the labels for each wedge\n",
      "\n",
      "colors : color or array-like of color, default: None\n",
      "    A sequence of colors through which the pie chart will cycle.  If\n",
      "    *None*, will use the colors in the currently active cycle.\n",
      "\n",
      "hatch : str or list, default: None\n",
      "    Hatching pattern applied to all pie wedges or sequence of patterns\n",
      "    through which the chart will cycle. For a list of valid patterns,\n",
      "    see :doc:`/gallery/shapes_and_collections/hatch_style_reference`.\n",
      "\n",
      "    .. versionadded:: 3.7\n",
      "\n",
      "autopct : None or str or callable, default: None\n",
      "    If not *None*, *autopct* is a string or function used to label the\n",
      "    wedges with their numeric value. The label will be placed inside\n",
      "    the wedge. If *autopct* is a format string, the label will be\n",
      "    ``fmt % pct``. If *autopct* is a function, then it will be called.\n",
      "\n",
      "pctdistance : float, default: 0.6\n",
      "    The relative distance along the radius at which the text\n",
      "    generated by *autopct* is drawn. To draw the text outside the pie,\n",
      "    set *pctdistance* > 1. This parameter is ignored if *autopct* is\n",
      "    ``None``.\n",
      "\n",
      "labeldistance : float or None, default: 1.1\n",
      "    The relative distance along the radius at which the labels are\n",
      "    drawn. To draw the labels inside the pie, set  *labeldistance* < 1.\n",
      "    If set to ``None``, labels are not drawn but are still stored for\n",
      "    use in `.legend`.\n",
      "\n",
      "shadow : bool or dict, default: False\n",
      "    If bool, whether to draw a shadow beneath the pie. If dict, draw a shadow\n",
      "    passing the properties in the dict to `.Shadow`.\n",
      "\n",
      "    .. versionadded:: 3.8\n",
      "        *shadow* can be a dict.\n",
      "\n",
      "startangle : float, default: 0 degrees\n",
      "    The angle by which the start of the pie is rotated,\n",
      "    counterclockwise from the x-axis.\n",
      "\n",
      "radius : float, default: 1\n",
      "    The radius of the pie.\n",
      "\n",
      "counterclock : bool, default: True\n",
      "    Specify fractions direction, clockwise or counterclockwise.\n",
      "\n",
      "wedgeprops : dict, default: None\n",
      "    Dict of arguments passed to each `.patches.Wedge` of the pie.\n",
      "    For example, ``wedgeprops = {'linewidth': 3}`` sets the width of\n",
      "    the wedge border lines equal to 3. By default, ``clip_on=False``.\n",
      "    When there is a conflict between these properties and other\n",
      "    keywords, properties passed to *wedgeprops* take precedence.\n",
      "\n",
      "textprops : dict, default: None\n",
      "    Dict of arguments to pass to the text objects.\n",
      "\n",
      "center : (float, float), default: (0, 0)\n",
      "    The coordinates of the center of the chart.\n",
      "\n",
      "frame : bool, default: False\n",
      "    Plot Axes frame with the chart if true.\n",
      "\n",
      "rotatelabels : bool, default: False\n",
      "    Rotate each label to the angle of the corresponding slice if true.\n",
      "\n",
      "normalize : bool, default: True\n",
      "    When *True*, always make a full pie by normalizing x so that\n",
      "    ``sum(x) == 1``. *False* makes a partial pie if ``sum(x) <= 1``\n",
      "    and raises a `ValueError` for ``sum(x) > 1``.\n",
      "\n",
      "data : indexable object, optional\n",
      "    If given, the following parameters also accept a string ``s``, which is\n",
      "    interpreted as ``data[s]`` (unless this raises an exception):\n",
      "\n",
      "    *x*, *explode*, *labels*, *colors*\n",
      "\n",
      "Returns\n",
      "-------\n",
      "patches : list\n",
      "    A sequence of `matplotlib.patches.Wedge` instances\n",
      "\n",
      "texts : list\n",
      "    A list of the label `.Text` instances.\n",
      "\n",
      "autotexts : list\n",
      "    A list of `.Text` instances for the numeric labels. This will only\n",
      "    be returned if the parameter *autopct* is not *None*.\n",
      "\n",
      "Notes\n",
      "-----\n",
      "The pie chart will probably look best if the figure and Axes are\n",
      "square, or the Axes aspect is equal.\n",
      "This method sets the aspect ratio of the axis to \"equal\".\n",
      "The Axes aspect ratio can be controlled with `.Axes.set_aspect`.\n",
      "\u001b[1;31mFile:\u001b[0m      c:\\users\\prach\\appdata\\local\\packages\\pythonsoftwarefoundation.python.3.12_qbz5n2kfra8p0\\localcache\\local-packages\\python312\\site-packages\\matplotlib\\pyplot.py\n",
      "\u001b[1;31mType:\u001b[0m      function"
     ]
    }
   ],
   "source": [
    "#Docstring\n",
    "plt.pie?\n"
   ]
  },
  {
   "cell_type": "code",
   "execution_count": 11,
   "metadata": {},
   "outputs": [
    {
     "data": {
      "image/png": "[encoded data removed]",
      "text/plain": [
       "<Figure size 640x480 with 1 Axes>"
      ]
     },
     "metadata": {},
     "output_type": "display_data"
    }
   ],
   "source": [
    "# Creating A Simple pi chart\n",
    "plt.pie([10,20,40,20,10])\n",
    "plt.show()"
   ]
  },
  {
   "cell_type": "code",
   "execution_count": 13,
   "metadata": {},
   "outputs": [
    {
     "data": {
      "image/png": "[encoded data removed]",
      "text/plain": [
       "<Figure size 640x480 with 1 Axes>"
      ]
     },
     "metadata": {},
     "output_type": "display_data"
    }
   ],
   "source": [
    "#Exploding or slicing\n",
    "plt.pie([10,20,40,20,10],explode=(0.5,0.3,0.1,0,0))\n",
    "plt.show()"
   ]
  },
  {
   "cell_type": "code",
   "execution_count": 16,
   "metadata": {},
   "outputs": [
    {
     "data": {
      "image/png": "[encoded data removed]",
      "text/plain": [
       "<Figure size 640x480 with 1 Axes>"
      ]
     },
     "metadata": {},
     "output_type": "display_data"
    }
   ],
   "source": [
    "#Assigning labels to each slice\n",
    "plt.pie([10,20,40,20,10],explode=(0.5,0.3,0.1,0.1,0),labels=['a','b','c','d','e'])\n",
    "plt.show()"
   ]
  },
  {
   "cell_type": "code",
   "execution_count": 17,
   "metadata": {},
   "outputs": [
    {
     "data": {
      "image/png": "[encoded data removed]",
      "text/plain": [
       "<Figure size 640x480 with 1 Axes>"
      ]
     },
     "metadata": {},
     "output_type": "display_data"
    }
   ],
   "source": [
    "#Assigning Shadow to each slice\n",
    "plt.pie([10,20,40,20,10],explode=(0.5,0.3,0.1,0.1,0),labels=['a','b','c','d','e'],shadow=True)\n",
    "plt.show()"
   ]
  },
  {
   "cell_type": "code",
   "execution_count": 18,
   "metadata": {},
   "outputs": [
    {
     "data": {
      "image/png": "[encoded data removed]",
      "text/plain": [
       "<Figure size 640x480 with 1 Axes>"
      ]
     },
     "metadata": {},
     "output_type": "display_data"
    }
   ],
   "source": [
    "#Percentage Of Each Slice\n",
    "plt.pie([10,20,40,20,10],explode=(0.5,0.3,0.1,0.1,0),labels=['a','b','c','d','e'],shadow=True,autopct='%1.1f%%')\n",
    "plt.show()"
   ]
  },
  {
   "cell_type": "markdown",
   "metadata": {},
   "source": [
    "# Histogram\n",
    "\n"
   ]
  },
  {
   "cell_type": "code",
   "execution_count": 19,
   "metadata": {},
   "outputs": [
    {
     "name": "stdout",
     "output_type": "stream",
     "text": [
      "\u001b[1;31mSignature:\u001b[0m\n",
      "\u001b[0mplt\u001b[0m\u001b[1;33m.\u001b[0m\u001b[0mhist\u001b[0m\u001b[1;33m(\u001b[0m\u001b[1;33m\n",
      "\u001b[0m    \u001b[0mx\u001b[0m\u001b[1;33m:\u001b[0m \u001b[1;34m'ArrayLike | Sequence[ArrayLike]'\u001b[0m\u001b[1;33m,\u001b[0m\u001b[1;33m\n",
      "\u001b[0m    \u001b[0mbins\u001b[0m\u001b[1;33m:\u001b[0m \u001b[1;34m'int | Sequence[float] | str | None'\u001b[0m \u001b[1;33m=\u001b[0m \u001b[1;32mNone\u001b[0m\u001b[1;33m,\u001b[0m\u001b[1;33m\n",
      "\u001b[0m    \u001b[0mrange\u001b[0m\u001b[1;33m:\u001b[0m \u001b[1;34m'tuple[float, float] | None'\u001b[0m \u001b[1;33m=\u001b[0m \u001b[1;32mNone\u001b[0m\u001b[1;33m,\u001b[0m\u001b[1;33m\n",
      "\u001b[0m    \u001b[0mdensity\u001b[0m\u001b[1;33m:\u001b[0m \u001b[1;34m'bool'\u001b[0m \u001b[1;33m=\u001b[0m \u001b[1;32mFalse\u001b[0m\u001b[1;33m,\u001b[0m\u001b[1;33m\n",
      "\u001b[0m    \u001b[0mweights\u001b[0m\u001b[1;33m:\u001b[0m \u001b[1;34m'ArrayLike | None'\u001b[0m \u001b[1;33m=\u001b[0m \u001b[1;32mNone\u001b[0m\u001b[1;33m,\u001b[0m\u001b[1;33m\n",
      "\u001b[0m    \u001b[0mcumulative\u001b[0m\u001b[1;33m:\u001b[0m \u001b[1;34m'bool | float'\u001b[0m \u001b[1;33m=\u001b[0m \u001b[1;32mFalse\u001b[0m\u001b[1;33m,\u001b[0m\u001b[1;33m\n",
      "\u001b[0m    \u001b[0mbottom\u001b[0m\u001b[1;33m:\u001b[0m \u001b[1;34m'ArrayLike | float | None'\u001b[0m \u001b[1;33m=\u001b[0m \u001b[1;32mNone\u001b[0m\u001b[1;33m,\u001b[0m\u001b[1;33m\n",
      "\u001b[0m    \u001b[0mhisttype\u001b[0m\u001b[1;33m:\u001b[0m \u001b[1;34m\"Literal['bar', 'barstacked', 'step', 'stepfilled']\"\u001b[0m \u001b[1;33m=\u001b[0m \u001b[1;34m'bar'\u001b[0m\u001b[1;33m,\u001b[0m\u001b[1;33m\n",
      "\u001b[0m    \u001b[0malign\u001b[0m\u001b[1;33m:\u001b[0m \u001b[1;34m\"Literal['left', 'mid', 'right']\"\u001b[0m \u001b[1;33m=\u001b[0m \u001b[1;34m'mid'\u001b[0m\u001b[1;33m,\u001b[0m\u001b[1;33m\n",
      "\u001b[0m    \u001b[0morientation\u001b[0m\u001b[1;33m:\u001b[0m \u001b[1;34m\"Literal['vertical', 'horizontal']\"\u001b[0m \u001b[1;33m=\u001b[0m \u001b[1;34m'vertical'\u001b[0m\u001b[1;33m,\u001b[0m\u001b[1;33m\n",
      "\u001b[0m    \u001b[0mrwidth\u001b[0m\u001b[1;33m:\u001b[0m \u001b[1;34m'float | None'\u001b[0m \u001b[1;33m=\u001b[0m \u001b[1;32mNone\u001b[0m\u001b[1;33m,\u001b[0m\u001b[1;33m\n",
      "\u001b[0m    \u001b[0mlog\u001b[0m\u001b[1;33m:\u001b[0m \u001b[1;34m'bool'\u001b[0m \u001b[1;33m=\u001b[0m \u001b[1;32mFalse\u001b[0m\u001b[1;33m,\u001b[0m\u001b[1;33m\n",
      "\u001b[0m    \u001b[0mcolor\u001b[0m\u001b[1;33m:\u001b[0m \u001b[1;34m'ColorType | Sequence[ColorType] | None'\u001b[0m \u001b[1;33m=\u001b[0m \u001b[1;32mNone\u001b[0m\u001b[1;33m,\u001b[0m\u001b[1;33m\n",
      "\u001b[0m    \u001b[0mlabel\u001b[0m\u001b[1;33m:\u001b[0m \u001b[1;34m'str | Sequence[str] | None'\u001b[0m \u001b[1;33m=\u001b[0m \u001b[1;32mNone\u001b[0m\u001b[1;33m,\u001b[0m\u001b[1;33m\n",
      "\u001b[0m    \u001b[0mstacked\u001b[0m\u001b[1;33m:\u001b[0m \u001b[1;34m'bool'\u001b[0m \u001b[1;33m=\u001b[0m \u001b[1;32mFalse\u001b[0m\u001b[1;33m,\u001b[0m\u001b[1;33m\n",
      "\u001b[0m    \u001b[1;33m*\u001b[0m\u001b[1;33m,\u001b[0m\u001b[1;33m\n",
      "\u001b[0m    \u001b[0mdata\u001b[0m\u001b[1;33m=\u001b[0m\u001b[1;32mNone\u001b[0m\u001b[1;33m,\u001b[0m\u001b[1;33m\n",
      "\u001b[0m    \u001b[1;33m**\u001b[0m\u001b[0mkwargs\u001b[0m\u001b[1;33m,\u001b[0m\u001b[1;33m\n",
      "\u001b[0m\u001b[1;33m)\u001b[0m \u001b[1;33m->\u001b[0m \u001b[1;34m'tuple[np.ndarray | list[np.ndarray], np.ndarray, BarContainer | Polygon | list[BarContainer | Polygon]]'\u001b[0m\u001b[1;33m\u001b[0m\u001b[1;33m\u001b[0m\u001b[0m\n",
      "\u001b[1;31mDocstring:\u001b[0m\n",
      "Compute and plot a histogram.\n",
      "\n",
      "This method uses `numpy.histogram` to bin the data in *x* and count the\n",
      "number of values in each bin, then draws the distribution either as a\n",
      "`.BarContainer` or `.Polygon`. The *bins*, *range*, *density*, and\n",
      "*weights* parameters are forwarded to `numpy.histogram`.\n",
      "\n",
      "If the data has already been binned and counted, use `~.bar` or\n",
      "`~.stairs` to plot the distribution::\n",
      "\n",
      "    counts, bins = np.histogram(x)\n",
      "    plt.stairs(counts, bins)\n",
      "\n",
      "Alternatively, plot pre-computed bins and counts using ``hist()`` by\n",
      "treating each bin as a single point with a weight equal to its count::\n",
      "\n",
      "    plt.hist(bins[:-1], bins, weights=counts)\n",
      "\n",
      "The data input *x* can be a singular array, a list of datasets of\n",
      "potentially different lengths ([*x0*, *x1*, ...]), or a 2D ndarray in\n",
      "which each column is a dataset. Note that the ndarray form is\n",
      "transposed relative to the list form. If the input is an array, then\n",
      "the return value is a tuple (*n*, *bins*, *patches*); if the input is a\n",
      "sequence of arrays, then the return value is a tuple\n",
      "([*n0*, *n1*, ...], *bins*, [*patches0*, *patches1*, ...]).\n",
      "\n",
      "Masked arrays are not supported.\n",
      "\n",
      "Parameters\n",
      "----------\n",
      "x : (n,) array or sequence of (n,) arrays\n",
      "    Input values, this takes either a single array or a sequence of\n",
      "    arrays which are not required to be of the same length.\n",
      "\n",
      "bins : int or sequence or str, default: :rc:`hist.bins`\n",
      "    If *bins* is an integer, it defines the number of equal-width bins\n",
      "    in the range.\n",
      "\n",
      "    If *bins* is a sequence, it defines the bin edges, including the\n",
      "    left edge of the first bin and the right edge of the last bin;\n",
      "    in this case, bins may be unequally spaced.  All but the last\n",
      "    (righthand-most) bin is half-open.  In other words, if *bins* is::\n",
      "\n",
      "        [1, 2, 3, 4]\n",
      "\n",
      "    then the first bin is ``[1, 2)`` (including 1, but excluding 2) and\n",
      "    the second ``[2, 3)``.  The last bin, however, is ``[3, 4]``, which\n",
      "    *includes* 4.\n",
      "\n",
      "    If *bins* is a string, it is one of the binning strategies\n",
      "    supported by `numpy.histogram_bin_edges`: 'auto', 'fd', 'doane',\n",
      "    'scott', 'stone', 'rice', 'sturges', or 'sqrt'.\n",
      "\n",
      "range : tuple or None, default: None\n",
      "    The lower and upper range of the bins. Lower and upper outliers\n",
      "    are ignored. If not provided, *range* is ``(x.min(), x.max())``.\n",
      "    Range has no effect if *bins* is a sequence.\n",
      "\n",
      "    If *bins* is a sequence or *range* is specified, autoscaling\n",
      "    is based on the specified bin range instead of the\n",
      "    range of x.\n",
      "\n",
      "density : bool, default: False\n",
      "    If ``True``, draw and return a probability density: each bin\n",
      "    will display the bin's raw count divided by the total number of\n",
      "    counts *and the bin width*\n",
      "    (``density = counts / (sum(counts) * np.diff(bins))``),\n",
      "    so that the area under the histogram integrates to 1\n",
      "    (``np.sum(density * np.diff(bins)) == 1``).\n",
      "\n",
      "    If *stacked* is also ``True``, the sum of the histograms is\n",
      "    normalized to 1.\n",
      "\n",
      "weights : (n,) array-like or None, default: None\n",
      "    An array of weights, of the same shape as *x*.  Each value in\n",
      "    *x* only contributes its associated weight towards the bin count\n",
      "    (instead of 1).  If *density* is ``True``, the weights are\n",
      "    normalized, so that the integral of the density over the range\n",
      "    remains 1.\n",
      "\n",
      "cumulative : bool or -1, default: False\n",
      "    If ``True``, then a histogram is computed where each bin gives the\n",
      "    counts in that bin plus all bins for smaller values. The last bin\n",
      "    gives the total number of datapoints.\n",
      "\n",
      "    If *density* is also ``True`` then the histogram is normalized such\n",
      "    that the last bin equals 1.\n",
      "\n",
      "    If *cumulative* is a number less than 0 (e.g., -1), the direction\n",
      "    of accumulation is reversed.  In this case, if *density* is also\n",
      "    ``True``, then the histogram is normalized such that the first bin\n",
      "    equals 1.\n",
      "\n",
      "bottom : array-like, scalar, or None, default: None\n",
      "    Location of the bottom of each bin, i.e. bins are drawn from\n",
      "    ``bottom`` to ``bottom + hist(x, bins)`` If a scalar, the bottom\n",
      "    of each bin is shifted by the same amount. If an array, each bin\n",
      "    is shifted independently and the length of bottom must match the\n",
      "    number of bins. If None, defaults to 0.\n",
      "\n",
      "histtype : {'bar', 'barstacked', 'step', 'stepfilled'}, default: 'bar'\n",
      "    The type of histogram to draw.\n",
      "\n",
      "    - 'bar' is a traditional bar-type histogram.  If multiple data\n",
      "      are given the bars are arranged side by side.\n",
      "    - 'barstacked' is a bar-type histogram where multiple\n",
      "      data are stacked on top of each other.\n",
      "    - 'step' generates a lineplot that is by default unfilled.\n",
      "    - 'stepfilled' generates a lineplot that is by default filled.\n",
      "\n",
      "align : {'left', 'mid', 'right'}, default: 'mid'\n",
      "    The horizontal alignment of the histogram bars.\n",
      "\n",
      "    - 'left': bars are centered on the left bin edges.\n",
      "    - 'mid': bars are centered between the bin edges.\n",
      "    - 'right': bars are centered on the right bin edges.\n",
      "\n",
      "orientation : {'vertical', 'horizontal'}, default: 'vertical'\n",
      "    If 'horizontal', `~.Axes.barh` will be used for bar-type histograms\n",
      "    and the *bottom* kwarg will be the left edges.\n",
      "\n",
      "rwidth : float or None, default: None\n",
      "    The relative width of the bars as a fraction of the bin width.  If\n",
      "    ``None``, automatically compute the width.\n",
      "\n",
      "    Ignored if *histtype* is 'step' or 'stepfilled'.\n",
      "\n",
      "log : bool, default: False\n",
      "    If ``True``, the histogram axis will be set to a log scale.\n",
      "\n",
      "color : color or array-like of colors or None, default: None\n",
      "    Color or sequence of colors, one per dataset.  Default (``None``)\n",
      "    uses the standard line color sequence.\n",
      "\n",
      "label : str or None, default: None\n",
      "    String, or sequence of strings to match multiple datasets.  Bar\n",
      "    charts yield multiple patches per dataset, but only the first gets\n",
      "    the label, so that `~.Axes.legend` will work as expected.\n",
      "\n",
      "stacked : bool, default: False\n",
      "    If ``True``, multiple data are stacked on top of each other If\n",
      "    ``False`` multiple data are arranged side by side if histtype is\n",
      "    'bar' or on top of each other if histtype is 'step'\n",
      "\n",
      "Returns\n",
      "-------\n",
      "n : array or list of arrays\n",
      "    The values of the histogram bins. See *density* and *weights* for a\n",
      "    description of the possible semantics.  If input *x* is an array,\n",
      "    then this is an array of length *nbins*. If input is a sequence of\n",
      "    arrays ``[data1, data2, ...]``, then this is a list of arrays with\n",
      "    the values of the histograms for each of the arrays in the same\n",
      "    order.  The dtype of the array *n* (or of its element arrays) will\n",
      "    always be float even if no weighting or normalization is used.\n",
      "\n",
      "bins : array\n",
      "    The edges of the bins. Length nbins + 1 (nbins left edges and right\n",
      "    edge of last bin).  Always a single array even when multiple data\n",
      "    sets are passed in.\n",
      "\n",
      "patches : `.BarContainer` or list of a single `.Polygon` or list of such objects\n",
      "    Container of individual artists used to create the histogram\n",
      "    or list of such containers if there are multiple input datasets.\n",
      "\n",
      "Other Parameters\n",
      "----------------\n",
      "data : indexable object, optional\n",
      "    If given, the following parameters also accept a string ``s``, which is\n",
      "    interpreted as ``data[s]`` (unless this raises an exception):\n",
      "\n",
      "    *x*, *weights*\n",
      "\n",
      "**kwargs\n",
      "    `~matplotlib.patches.Patch` properties\n",
      "\n",
      "See Also\n",
      "--------\n",
      "hist2d : 2D histogram with rectangular bins\n",
      "hexbin : 2D histogram with hexagonal bins\n",
      "stairs : Plot a pre-computed histogram\n",
      "bar : Plot a pre-computed histogram\n",
      "\n",
      "Notes\n",
      "-----\n",
      "For large numbers of bins (>1000), plotting can be significantly\n",
      "accelerated by using `~.Axes.stairs` to plot a pre-computed histogram\n",
      "(``plt.stairs(*np.histogram(data))``), or by setting *histtype* to\n",
      "'step' or 'stepfilled' rather than 'bar' or 'barstacked'.\n",
      "\u001b[1;31mFile:\u001b[0m      c:\\users\\prach\\appdata\\local\\packages\\pythonsoftwarefoundation.python.3.12_qbz5n2kfra8p0\\localcache\\local-packages\\python312\\site-packages\\matplotlib\\pyplot.py\n",
      "\u001b[1;31mType:\u001b[0m      function"
     ]
    }
   ],
   "source": [
    "plt.hist?"
   ]
  },
  {
   "cell_type": "code",
   "execution_count": 25,
   "metadata": {},
   "outputs": [
    {
     "data": {
      "text/plain": [
       "array([46, 27, 49, 13, 34,  8, 43,  8, 13, 25, 20, 21, 20, 34,  9, 38, 10,\n",
       "       13, 15, 44, 47, 15, 29,  1,  9, 19, 44, 28, 15, 29,  1, 32,  7, 43,\n",
       "       29,  5, 27, 19, 38, 22,  7,  3, 47, 32, 24,  0, 12, 49,  6, 14, 14,\n",
       "        8, 29, 40, 12, 37, 16, 24, 34, 28, 45, 35, 16, 27, 45, 16,  8, 39,\n",
       "       44, 43, 13, 37, 28, 35, 48, 22, 45, 46, 34, 47, 31, 40, 21, 30, 37,\n",
       "       12, 11, 44, 22, 27, 33, 45, 23,  7,  9,  8,  9, 11, 29,  2])"
      ]
     },
     "execution_count": 25,
     "metadata": {},
     "output_type": "execute_result"
    }
   ],
   "source": [
    "#Deefining na\n",
    "na = np.random.randint(30,70,100)\n",
    "na\n",
    "na2 = np.random.randint(0,50,100)\n",
    "na2"
   ]
  },
  {
   "cell_type": "code",
   "execution_count": 22,
   "metadata": {},
   "outputs": [
    {
     "data": {
      "image/png": "[encoded data removed]",
      "text/plain": [
       "<Figure size 640x480 with 1 Axes>"
      ]
     },
     "metadata": {},
     "output_type": "display_data"
    }
   ],
   "source": [
    "#Plotting Histogram\n",
    "plt.hist(na)\n",
    "plt.show()"
   ]
  },
  {
   "cell_type": "code",
   "execution_count": 35,
   "metadata": {},
   "outputs": [
    {
     "data": {
      "image/png": "[encoded data removed]",
      "text/plain": [
       "<Figure size 640x480 with 1 Axes>"
      ]
     },
     "metadata": {},
     "output_type": "display_data"
    }
   ],
   "source": [
    "plt.hist(na,label='Class A') #convert img into histogram or hist alpha is the opacity and by default it is 1\n",
    "plt.hist(na2,label='Class B',alpha=0.5)\n",
    "plt.xlim(0,100) #will show only limit specified area\n",
    "plt.ylim(0,20)\n",
    "plt.ylabel('Frequency')\n",
    "plt.xlabel(\"Marks\")\n",
    "plt.title(\"Class Report\")\n",
    "plt.legend()\n",
    "plt.grid()\n",
    "plt.show()"
   ]
  }
 ],
 "metadata": {
  "kernelspec": {
   "display_name": "Python 3",
   "language": "python",
   "name": "python3"
  },
  "language_info": {
   "codemirror_mode": {
    "name": "ipython",
    "version": 3
   },
   "file_extension": ".py",
   "mimetype": "text/x-python",
   "name": "python",
   "nbconvert_exporter": "python",
   "pygments_lexer": "ipython3",
   "version": "3.12.2"
  }
 },
 "nbformat": 4,
 "nbformat_minor": 2
}
